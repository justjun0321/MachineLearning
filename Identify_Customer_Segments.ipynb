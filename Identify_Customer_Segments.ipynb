{
 "cells": [
  {
   "cell_type": "markdown",
   "metadata": {},
   "source": [
    "# Project: Identify Customer Segments\n",
    "\n",
    "In this project, you will apply unsupervised learning techniques to identify segments of the population that form the core customer base for a mail-order sales company in Germany. These segments can then be used to direct marketing campaigns towards audiences that will have the highest expected rate of returns. The data that you will use has been provided by our partners at Bertelsmann Arvato Analytics, and represents a real-life data science task.\n",
    "\n",
    "This notebook will help you complete this task by providing a framework within which you will perform your analysis steps. In each step of the project, you will see some text describing the subtask that you will perform, followed by one or more code cells for you to complete your work. **Feel free to add additional code and markdown cells as you go along so that you can explore everything in precise chunks.** The code cells provided in the base template will outline only the major tasks, and will usually not be enough to cover all of the minor tasks that comprise it.\n",
    "\n",
    "It should be noted that while there will be precise guidelines on how you should handle certain tasks in the project, there will also be places where an exact specification is not provided. **There will be times in the project where you will need to make and justify your own decisions on how to treat the data.** These are places where there may not be only one way to handle the data. In real-life tasks, there may be many valid ways to approach an analysis task. One of the most important things you can do is clearly document your approach so that other scientists can understand the decisions you've made.\n",
    "\n",
    "At the end of most sections, there will be a Markdown cell labeled **Discussion**. In these cells, you will report your findings for the completed section, as well as document the decisions that you made in your approach to each subtask. **Your project will be evaluated not just on the code used to complete the tasks outlined, but also your communication about your observations and conclusions at each stage.**"
   ]
  },
  {
   "cell_type": "code",
   "execution_count": 1,
   "metadata": {},
   "outputs": [],
   "source": [
    "# import libraries here; add more as necessary\n",
    "import numpy as np\n",
    "import pandas as pd\n",
    "import matplotlib.pyplot as plt\n",
    "plt.style.use('ggplot')\n",
    "import seaborn as sns\n",
    "import ast\n",
    "\n",
    "from sklearn.preprocessing import Imputer\n",
    "from sklearn.preprocessing import StandardScaler\n",
    "from sklearn.decomposition import PCA\n",
    "from sklearn.cluster import KMeans\n",
    "\n",
    "# magic word for producing visualizations in notebook\n",
    "%matplotlib inline"
   ]
  },
  {
   "cell_type": "markdown",
   "metadata": {},
   "source": [
    "### Step 0: Load the Data\n",
    "\n",
    "There are four files associated with this project (not including this one):\n",
    "\n",
    "- `Udacity_AZDIAS_Subset.csv`: Demographics data for the general population of Germany; 891211 persons (rows) x 85 features (columns).\n",
    "- `Udacity_CUSTOMERS_Subset.csv`: Demographics data for customers of a mail-order company; 191652 persons (rows) x 85 features (columns).\n",
    "- `Data_Dictionary.md`: Detailed information file about the features in the provided datasets.\n",
    "- `AZDIAS_Feature_Summary.csv`: Summary of feature attributes for demographics data; 85 features (rows) x 4 columns\n",
    "\n",
    "Each row of the demographics files represents a single person, but also includes information outside of individuals, including information about their household, building, and neighborhood. You will use this information to cluster the general population into groups with similar demographic properties. Then, you will see how the people in the customers dataset fit into those created clusters. The hope here is that certain clusters are over-represented in the customers data, as compared to the general population; those over-represented clusters will be assumed to be part of the core userbase. This information can then be used for further applications, such as targeting for a marketing campaign.\n",
    "\n",
    "To start off with, load in the demographics data for the general population into a pandas DataFrame, and do the same for the feature attributes summary. Note for all of the `.csv` data files in this project: they're semicolon (`;`) delimited, so you'll need an additional argument in your [`read_csv()`](https://pandas.pydata.org/pandas-docs/stable/generated/pandas.read_csv.html) call to read in the data properly. Also, considering the size of the main dataset, it may take some time for it to load completely.\n",
    "\n",
    "Once the dataset is loaded, it's recommended that you take a little bit of time just browsing the general structure of the dataset and feature summary file. You'll be getting deep into the innards of the cleaning in the first major step of the project, so gaining some general familiarity can help you get your bearings."
   ]
  },
  {
   "cell_type": "code",
   "execution_count": 2,
   "metadata": {},
   "outputs": [],
   "source": [
    "# Load in the general demographics data.\n",
    "azdias = pd.read_csv('Udacity_AZDIAS_Subset.csv',delimiter=';')\n",
    "\n",
    "# Load in the feature summary file.\n",
    "feat_info = pd.read_csv('AZDIAS_Feature_Summary.csv',delimiter=';')"
   ]
  },
  {
   "cell_type": "code",
   "execution_count": 3,
   "metadata": {},
   "outputs": [
    {
     "name": "stdout",
     "output_type": "stream",
     "text": [
      "Shape of azdias is (891221, 85) ! \n",
      "And the shape of feat_info is (85, 4) !\n"
     ]
    },
    {
     "data": {
      "text/html": [
       "<div>\n",
       "<style>\n",
       "    .dataframe thead tr:only-child th {\n",
       "        text-align: right;\n",
       "    }\n",
       "\n",
       "    .dataframe thead th {\n",
       "        text-align: left;\n",
       "    }\n",
       "\n",
       "    .dataframe tbody tr th {\n",
       "        vertical-align: top;\n",
       "    }\n",
       "</style>\n",
       "<table border=\"1\" class=\"dataframe\">\n",
       "  <thead>\n",
       "    <tr style=\"text-align: right;\">\n",
       "      <th></th>\n",
       "      <th>AGER_TYP</th>\n",
       "      <th>ALTERSKATEGORIE_GROB</th>\n",
       "      <th>ANREDE_KZ</th>\n",
       "      <th>CJT_GESAMTTYP</th>\n",
       "      <th>FINANZ_MINIMALIST</th>\n",
       "      <th>FINANZ_SPARER</th>\n",
       "      <th>FINANZ_VORSORGER</th>\n",
       "      <th>FINANZ_ANLEGER</th>\n",
       "      <th>FINANZ_UNAUFFAELLIGER</th>\n",
       "      <th>FINANZ_HAUSBAUER</th>\n",
       "      <th>...</th>\n",
       "      <th>PLZ8_ANTG1</th>\n",
       "      <th>PLZ8_ANTG2</th>\n",
       "      <th>PLZ8_ANTG3</th>\n",
       "      <th>PLZ8_ANTG4</th>\n",
       "      <th>PLZ8_BAUMAX</th>\n",
       "      <th>PLZ8_HHZ</th>\n",
       "      <th>PLZ8_GBZ</th>\n",
       "      <th>ARBEIT</th>\n",
       "      <th>ORTSGR_KLS9</th>\n",
       "      <th>RELAT_AB</th>\n",
       "    </tr>\n",
       "  </thead>\n",
       "  <tbody>\n",
       "    <tr>\n",
       "      <th>0</th>\n",
       "      <td>-1</td>\n",
       "      <td>2</td>\n",
       "      <td>1</td>\n",
       "      <td>2.0</td>\n",
       "      <td>3</td>\n",
       "      <td>4</td>\n",
       "      <td>3</td>\n",
       "      <td>5</td>\n",
       "      <td>5</td>\n",
       "      <td>3</td>\n",
       "      <td>...</td>\n",
       "      <td>NaN</td>\n",
       "      <td>NaN</td>\n",
       "      <td>NaN</td>\n",
       "      <td>NaN</td>\n",
       "      <td>NaN</td>\n",
       "      <td>NaN</td>\n",
       "      <td>NaN</td>\n",
       "      <td>NaN</td>\n",
       "      <td>NaN</td>\n",
       "      <td>NaN</td>\n",
       "    </tr>\n",
       "    <tr>\n",
       "      <th>1</th>\n",
       "      <td>-1</td>\n",
       "      <td>1</td>\n",
       "      <td>2</td>\n",
       "      <td>5.0</td>\n",
       "      <td>1</td>\n",
       "      <td>5</td>\n",
       "      <td>2</td>\n",
       "      <td>5</td>\n",
       "      <td>4</td>\n",
       "      <td>5</td>\n",
       "      <td>...</td>\n",
       "      <td>2.0</td>\n",
       "      <td>3.0</td>\n",
       "      <td>2.0</td>\n",
       "      <td>1.0</td>\n",
       "      <td>1.0</td>\n",
       "      <td>5.0</td>\n",
       "      <td>4.0</td>\n",
       "      <td>3.0</td>\n",
       "      <td>5.0</td>\n",
       "      <td>4.0</td>\n",
       "    </tr>\n",
       "    <tr>\n",
       "      <th>2</th>\n",
       "      <td>-1</td>\n",
       "      <td>3</td>\n",
       "      <td>2</td>\n",
       "      <td>3.0</td>\n",
       "      <td>1</td>\n",
       "      <td>4</td>\n",
       "      <td>1</td>\n",
       "      <td>2</td>\n",
       "      <td>3</td>\n",
       "      <td>5</td>\n",
       "      <td>...</td>\n",
       "      <td>3.0</td>\n",
       "      <td>3.0</td>\n",
       "      <td>1.0</td>\n",
       "      <td>0.0</td>\n",
       "      <td>1.0</td>\n",
       "      <td>4.0</td>\n",
       "      <td>4.0</td>\n",
       "      <td>3.0</td>\n",
       "      <td>5.0</td>\n",
       "      <td>2.0</td>\n",
       "    </tr>\n",
       "    <tr>\n",
       "      <th>3</th>\n",
       "      <td>2</td>\n",
       "      <td>4</td>\n",
       "      <td>2</td>\n",
       "      <td>2.0</td>\n",
       "      <td>4</td>\n",
       "      <td>2</td>\n",
       "      <td>5</td>\n",
       "      <td>2</td>\n",
       "      <td>1</td>\n",
       "      <td>2</td>\n",
       "      <td>...</td>\n",
       "      <td>2.0</td>\n",
       "      <td>2.0</td>\n",
       "      <td>2.0</td>\n",
       "      <td>0.0</td>\n",
       "      <td>1.0</td>\n",
       "      <td>3.0</td>\n",
       "      <td>4.0</td>\n",
       "      <td>2.0</td>\n",
       "      <td>3.0</td>\n",
       "      <td>3.0</td>\n",
       "    </tr>\n",
       "    <tr>\n",
       "      <th>4</th>\n",
       "      <td>-1</td>\n",
       "      <td>3</td>\n",
       "      <td>1</td>\n",
       "      <td>5.0</td>\n",
       "      <td>4</td>\n",
       "      <td>3</td>\n",
       "      <td>4</td>\n",
       "      <td>1</td>\n",
       "      <td>3</td>\n",
       "      <td>2</td>\n",
       "      <td>...</td>\n",
       "      <td>2.0</td>\n",
       "      <td>4.0</td>\n",
       "      <td>2.0</td>\n",
       "      <td>1.0</td>\n",
       "      <td>2.0</td>\n",
       "      <td>3.0</td>\n",
       "      <td>3.0</td>\n",
       "      <td>4.0</td>\n",
       "      <td>6.0</td>\n",
       "      <td>5.0</td>\n",
       "    </tr>\n",
       "  </tbody>\n",
       "</table>\n",
       "<p>5 rows × 85 columns</p>\n",
       "</div>"
      ],
      "text/plain": [
       "   AGER_TYP  ALTERSKATEGORIE_GROB  ANREDE_KZ  CJT_GESAMTTYP  \\\n",
       "0        -1                     2          1            2.0   \n",
       "1        -1                     1          2            5.0   \n",
       "2        -1                     3          2            3.0   \n",
       "3         2                     4          2            2.0   \n",
       "4        -1                     3          1            5.0   \n",
       "\n",
       "   FINANZ_MINIMALIST  FINANZ_SPARER  FINANZ_VORSORGER  FINANZ_ANLEGER  \\\n",
       "0                  3              4                 3               5   \n",
       "1                  1              5                 2               5   \n",
       "2                  1              4                 1               2   \n",
       "3                  4              2                 5               2   \n",
       "4                  4              3                 4               1   \n",
       "\n",
       "   FINANZ_UNAUFFAELLIGER  FINANZ_HAUSBAUER    ...     PLZ8_ANTG1  PLZ8_ANTG2  \\\n",
       "0                      5                 3    ...            NaN         NaN   \n",
       "1                      4                 5    ...            2.0         3.0   \n",
       "2                      3                 5    ...            3.0         3.0   \n",
       "3                      1                 2    ...            2.0         2.0   \n",
       "4                      3                 2    ...            2.0         4.0   \n",
       "\n",
       "   PLZ8_ANTG3  PLZ8_ANTG4  PLZ8_BAUMAX  PLZ8_HHZ  PLZ8_GBZ  ARBEIT  \\\n",
       "0         NaN         NaN          NaN       NaN       NaN     NaN   \n",
       "1         2.0         1.0          1.0       5.0       4.0     3.0   \n",
       "2         1.0         0.0          1.0       4.0       4.0     3.0   \n",
       "3         2.0         0.0          1.0       3.0       4.0     2.0   \n",
       "4         2.0         1.0          2.0       3.0       3.0     4.0   \n",
       "\n",
       "   ORTSGR_KLS9  RELAT_AB  \n",
       "0          NaN       NaN  \n",
       "1          5.0       4.0  \n",
       "2          5.0       2.0  \n",
       "3          3.0       3.0  \n",
       "4          6.0       5.0  \n",
       "\n",
       "[5 rows x 85 columns]"
      ]
     },
     "execution_count": 3,
     "metadata": {},
     "output_type": "execute_result"
    }
   ],
   "source": [
    "# Check the structure of the data after it's loaded (e.g. print the number of\n",
    "# rows and columns, print the first few rows).\n",
    "print('Shape of azdias is',azdias.shape,'! \\nAnd the shape of feat_info is',feat_info.shape,'!')\n",
    "\n",
    "azdias.head()"
   ]
  },
  {
   "cell_type": "code",
   "execution_count": 4,
   "metadata": {},
   "outputs": [
    {
     "data": {
      "text/html": [
       "<div>\n",
       "<style>\n",
       "    .dataframe thead tr:only-child th {\n",
       "        text-align: right;\n",
       "    }\n",
       "\n",
       "    .dataframe thead th {\n",
       "        text-align: left;\n",
       "    }\n",
       "\n",
       "    .dataframe tbody tr th {\n",
       "        vertical-align: top;\n",
       "    }\n",
       "</style>\n",
       "<table border=\"1\" class=\"dataframe\">\n",
       "  <thead>\n",
       "    <tr style=\"text-align: right;\">\n",
       "      <th></th>\n",
       "      <th>attribute</th>\n",
       "      <th>information_level</th>\n",
       "      <th>type</th>\n",
       "      <th>missing_or_unknown</th>\n",
       "    </tr>\n",
       "  </thead>\n",
       "  <tbody>\n",
       "    <tr>\n",
       "      <th>0</th>\n",
       "      <td>AGER_TYP</td>\n",
       "      <td>person</td>\n",
       "      <td>categorical</td>\n",
       "      <td>[-1,0]</td>\n",
       "    </tr>\n",
       "    <tr>\n",
       "      <th>1</th>\n",
       "      <td>ALTERSKATEGORIE_GROB</td>\n",
       "      <td>person</td>\n",
       "      <td>ordinal</td>\n",
       "      <td>[-1,0,9]</td>\n",
       "    </tr>\n",
       "    <tr>\n",
       "      <th>2</th>\n",
       "      <td>ANREDE_KZ</td>\n",
       "      <td>person</td>\n",
       "      <td>categorical</td>\n",
       "      <td>[-1,0]</td>\n",
       "    </tr>\n",
       "    <tr>\n",
       "      <th>3</th>\n",
       "      <td>CJT_GESAMTTYP</td>\n",
       "      <td>person</td>\n",
       "      <td>categorical</td>\n",
       "      <td>[0]</td>\n",
       "    </tr>\n",
       "    <tr>\n",
       "      <th>4</th>\n",
       "      <td>FINANZ_MINIMALIST</td>\n",
       "      <td>person</td>\n",
       "      <td>ordinal</td>\n",
       "      <td>[-1]</td>\n",
       "    </tr>\n",
       "  </tbody>\n",
       "</table>\n",
       "</div>"
      ],
      "text/plain": [
       "              attribute information_level         type missing_or_unknown\n",
       "0              AGER_TYP            person  categorical             [-1,0]\n",
       "1  ALTERSKATEGORIE_GROB            person      ordinal           [-1,0,9]\n",
       "2             ANREDE_KZ            person  categorical             [-1,0]\n",
       "3         CJT_GESAMTTYP            person  categorical                [0]\n",
       "4     FINANZ_MINIMALIST            person      ordinal               [-1]"
      ]
     },
     "execution_count": 4,
     "metadata": {},
     "output_type": "execute_result"
    }
   ],
   "source": [
    "feat_info.head()"
   ]
  },
  {
   "cell_type": "markdown",
   "metadata": {},
   "source": [
    "> **Tip**: Add additional cells to keep everything in reasonably-sized chunks! Keyboard shortcut `esc --> a` (press escape to enter command mode, then press the 'A' key) adds a new cell before the active cell, and `esc --> b` adds a new cell after the active cell. If you need to convert an active cell to a markdown cell, use `esc --> m` and to convert to a code cell, use `esc --> y`. \n",
    "\n",
    "## Step 1: Preprocessing\n",
    "\n",
    "### Step 1.1: Assess Missing Data\n",
    "\n",
    "The feature summary file contains a summary of properties for each demographics data column. You will use this file to help you make cleaning decisions during this stage of the project. First of all, you should assess the demographics data in terms of missing data. Pay attention to the following points as you perform your analysis, and take notes on what you observe. Make sure that you fill in the **Discussion** cell with your findings and decisions at the end of each step that has one!\n",
    "\n",
    "#### Step 1.1.1: Convert Missing Value Codes to NaNs\n",
    "The fourth column of the feature attributes summary (loaded in above as `feat_info`) documents the codes from the data dictionary that indicate missing or unknown data. While the file encodes this as a list (e.g. `[-1,0]`), this will get read in as a string object. You'll need to do a little bit of parsing to make use of it to identify and clean the data. Convert data that matches a 'missing' or 'unknown' value code into a numpy NaN value. You might want to see how much data takes on a 'missing' or 'unknown' code, and how much data is naturally missing, as a point of interest.\n",
    "\n",
    "**As one more reminder, you are encouraged to add additional cells to break up your analysis into manageable chunks.**"
   ]
  },
  {
   "cell_type": "code",
   "execution_count": 5,
   "metadata": {},
   "outputs": [],
   "source": [
    "before = pd.isnull(azdias).sum()"
   ]
  },
  {
   "cell_type": "code",
   "execution_count": 6,
   "metadata": {},
   "outputs": [],
   "source": [
    "feat_info['missing_or_unknown'] = feat_info['missing_or_unknown'].apply(lambda x : x.replace('XX', \"'XX'\"))\n",
    "for i in range(feat_info.shape[0]):\n",
    "    if 'XX' in feat_info['missing_or_unknown'][i]:\n",
    "        pass\n",
    "    else:\n",
    "        feat_info['missing_or_unknown'][i] = feat_info['missing_or_unknown'][i].replace('X', \"'X'\")"
   ]
  },
  {
   "cell_type": "code",
   "execution_count": 7,
   "metadata": {},
   "outputs": [],
   "source": [
    "# Identify missing or unknown data values and convert them to NaNs.\n",
    "for i in range(feat_info.shape[0]):\n",
    "    missing = {}\n",
    "    lst = ast.literal_eval(feat_info['missing_or_unknown'][i])\n",
    "    for x in lst:\n",
    "        missing[x] = np.nan\n",
    "        azdias[feat_info['attribute'][i]].replace(missing, inplace=True)"
   ]
  },
  {
   "cell_type": "code",
   "execution_count": 8,
   "metadata": {},
   "outputs": [],
   "source": [
    "after = pd.isnull(azdias).sum()"
   ]
  },
  {
   "cell_type": "code",
   "execution_count": 9,
   "metadata": {},
   "outputs": [],
   "source": [
    "difference = after - before"
   ]
  },
  {
   "cell_type": "markdown",
   "metadata": {},
   "source": [
    "#### Step 1.1.2: Assess Missing Data in Each Column\n",
    "\n",
    "How much missing data is present in each column? There are a few columns that are outliers in terms of the proportion of values that are missing. You will want to use matplotlib's [`hist()`](https://matplotlib.org/api/_as_gen/matplotlib.pyplot.hist.html) function to visualize the distribution of missing value counts to find these columns. Identify and document these columns. While some of these columns might have justifications for keeping or re-encoding the data, for this project you should just remove them from the dataframe. (Feel free to make remarks about these outlier columns in the discussion, however!)\n",
    "\n",
    "For the remaining features, are there any patterns in which columns have, or share, missing data?"
   ]
  },
  {
   "cell_type": "code",
   "execution_count": 10,
   "metadata": {},
   "outputs": [
    {
     "data": {
      "text/plain": [
       "(array([ 31.,   1.,   0.,   0.,   0.,   0.,   0.,   7.,   8.,  10.,   6.,\n",
       "          7.,   6.,   0.,   1.,   2.,   0.,   0.,   0.,   0.,   0.,   0.,\n",
       "          0.,   0.,   0.,   0.,   0.,   0.,   0.,   1.,   0.,   0.,   0.,\n",
       "          0.,   0.,   0.,   0.,   1.,   0.,   0.,   0.,   0.,   0.,   0.,\n",
       "          0.,   1.,   0.,   0.,   0.,   0.,   0.,   0.,   0.,   0.,   0.,\n",
       "          1.,   0.,   0.,   0.,   0.,   0.,   0.,   0.,   0.,   0.,   1.,\n",
       "          0.,   0.,   0.,   0.,   0.,   0.,   0.,   0.,   0.,   0.,   0.,\n",
       "          0.,   0.,   0.,   0.,   0.,   0.,   0.,   1.]),\n",
       " array([      0.        ,   10459.54117647,   20919.08235294,\n",
       "          31378.62352941,   41838.16470588,   52297.70588235,\n",
       "          62757.24705882,   73216.78823529,   83676.32941176,\n",
       "          94135.87058824,  104595.41176471,  115054.95294118,\n",
       "         125514.49411765,  135974.03529412,  146433.57647059,\n",
       "         156893.11764706,  167352.65882353,  177812.2       ,\n",
       "         188271.74117647,  198731.28235294,  209190.82352941,\n",
       "         219650.36470588,  230109.90588235,  240569.44705882,\n",
       "         251028.98823529,  261488.52941176,  271948.07058824,\n",
       "         282407.61176471,  292867.15294118,  303326.69411765,\n",
       "         313786.23529412,  324245.77647059,  334705.31764706,\n",
       "         345164.85882353,  355624.4       ,  366083.94117647,\n",
       "         376543.48235294,  387003.02352941,  397462.56470588,\n",
       "         407922.10588235,  418381.64705882,  428841.18823529,\n",
       "         439300.72941176,  449760.27058824,  460219.81176471,\n",
       "         470679.35294118,  481138.89411765,  491598.43529412,\n",
       "         502057.97647059,  512517.51764706,  522977.05882353,\n",
       "         533436.6       ,  543896.14117647,  554355.68235294,\n",
       "         564815.22352941,  575274.76470588,  585734.30588235,\n",
       "         596193.84705882,  606653.38823529,  617112.92941176,\n",
       "         627572.47058824,  638032.01176471,  648491.55294118,\n",
       "         658951.09411765,  669410.63529412,  679870.17647059,\n",
       "         690329.71764706,  700789.25882353,  711248.8       ,\n",
       "         721708.34117647,  732167.88235294,  742627.42352941,\n",
       "         753086.96470588,  763546.50588235,  774006.04705882,\n",
       "         784465.58823529,  794925.12941176,  805384.67058824,\n",
       "         815844.21176471,  826303.75294118,  836763.29411765,\n",
       "         847222.83529412,  857682.37647059,  868141.91764706,\n",
       "         878601.45882353,  889061.        ]),\n",
       " <a list of 85 Patch objects>)"
      ]
     },
     "execution_count": 10,
     "metadata": {},
     "output_type": "execute_result"
    },
    {
     "data": {
      "image/png": "[encoded data removed]",
      "text/plain": [
       "<matplotlib.figure.Figure at 0x7f7687c0a748>"
      ]
     },
     "metadata": {
      "needs_background": "light"
     },
     "output_type": "display_data"
    }
   ],
   "source": [
    "# Perform an assessment of how much missing data there is in each column of the\n",
    "# dataset.\n",
    "plt.hist(after, bins=85)"
   ]
  },
  {
   "cell_type": "code",
   "execution_count": 11,
   "metadata": {},
   "outputs": [
    {
     "data": {
      "image/png": "[encoded data removed]",
      "text/plain": [
       "<matplotlib.figure.Figure at 0x7f7685ade518>"
      ]
     },
     "metadata": {
      "needs_background": "light"
     },
     "output_type": "display_data"
    }
   ],
   "source": [
    "# Investigate patterns in the amount of missing data in each column.\n",
    "bins = 85\n",
    "# Amount of missing values before mapping encoded values\n",
    "plt.hist(before, bins, alpha=0.5, label='Natural')\n",
    "# Amount of missing values after mapping encoded values\n",
    "plt.hist(after, bins, alpha=0.5, label='Encoded')\n",
    "plt.legend(loc='upper right')\n",
    "plt.show()\n"
   ]
  },
  {
   "cell_type": "markdown",
   "metadata": {},
   "source": [
    "I'll use 200,000 as a upper limit for NaN values. Since we can see that the most of the columns have less than 200,000 NaN values."
   ]
  },
  {
   "cell_type": "code",
   "execution_count": 12,
   "metadata": {},
   "outputs": [
    {
     "data": {
      "text/plain": [
       "count        85.000000\n",
       "mean      98516.811765\n",
       "std      146604.203317\n",
       "min           0.000000\n",
       "25%           0.000000\n",
       "50%       93148.000000\n",
       "75%      116515.000000\n",
       "max      889061.000000\n",
       "dtype: float64"
      ]
     },
     "execution_count": 12,
     "metadata": {},
     "output_type": "execute_result"
    }
   ],
   "source": [
    "after.describe()"
   ]
  },
  {
   "cell_type": "code",
   "execution_count": 13,
   "metadata": {},
   "outputs": [
    {
     "data": {
      "text/plain": [
       "AGER_TYP        685843\n",
       "GEBURTSJAHR     392318\n",
       "TITEL_KZ        889061\n",
       "ALTER_HH        310267\n",
       "KK_KUNDENTYP    584612\n",
       "KBA05_BAUMAX    476524\n",
       "dtype: int64"
      ]
     },
     "execution_count": 13,
     "metadata": {},
     "output_type": "execute_result"
    }
   ],
   "source": [
    "# Remove the outlier columns from the dataset. (You'll perform other data\n",
    "# engineering tasks such as re-encoding and imputation later.)\n",
    "after[after > 200000]"
   ]
  },
  {
   "cell_type": "code",
   "execution_count": 14,
   "metadata": {},
   "outputs": [],
   "source": [
    "azdias.drop(['AGER_TYP','GEBURTSJAHR','TITEL_KZ','ALTER_HH','KK_KUNDENTYP','KBA05_BAUMAX'],axis=1, inplace=True)"
   ]
  },
  {
   "cell_type": "code",
   "execution_count": 15,
   "metadata": {},
   "outputs": [
    {
     "data": {
      "text/plain": [
       "(891221, 79)"
      ]
     },
     "execution_count": 15,
     "metadata": {},
     "output_type": "execute_result"
    }
   ],
   "source": [
    "azdias.shape"
   ]
  },
  {
   "cell_type": "code",
   "execution_count": 16,
   "metadata": {},
   "outputs": [],
   "source": [
    "for i in ['AGER_TYP','GEBURTSJAHR','TITEL_KZ','ALTER_HH','KK_KUNDENTYP','KBA05_BAUMAX']:\n",
    "    feat_info = feat_info[feat_info.attribute != i]"
   ]
  },
  {
   "cell_type": "markdown",
   "metadata": {},
   "source": [
    "#### Discussion 1.1.2: Assess Missing Data in Each Column\n",
    "\n",
    "There are 31 columns without missing values and 54 with at least one missing values. The distribution, as I expected, is long-tailed right skewed. Most of those with missing values have less than 200,000 missing values. Therefore, I dropped those with over 200,000 missing values"
   ]
  },
  {
   "cell_type": "markdown",
   "metadata": {},
   "source": [
    "#### Step 1.1.3: Assess Missing Data in Each Row\n",
    "\n",
    "Now, you'll perform a similar assessment for the rows of the dataset. How much data is missing in each row? As with the columns, you should see some groups of points that have a very different numbers of missing values. Divide the data into two subsets: one for data points that are above some threshold for missing values, and a second subset for points below that threshold.\n",
    "\n",
    "In order to know what to do with the outlier rows, we should see if the distribution of data values on columns that are not missing data (or are missing very little data) are similar or different between the two groups. Select at least five of these columns and compare the distribution of values.\n",
    "- You can use seaborn's [`countplot()`](https://seaborn.pydata.org/generated/seaborn.countplot.html) function to create a bar chart of code frequencies and matplotlib's [`subplot()`](https://matplotlib.org/api/_as_gen/matplotlib.pyplot.subplot.html) function to put bar charts for the two subplots side by side.\n",
    "- To reduce repeated code, you might want to write a function that can perform this comparison, taking as one of its arguments a column to be compared.\n",
    "\n",
    "Depending on what you observe in your comparison, this will have implications on how you approach your conclusions later in the analysis. If the distributions of non-missing features look similar between the data with many missing values and the data with few or no missing values, then we could argue that simply dropping those points from the analysis won't present a major issue. On the other hand, if the data with many missing values looks very different from the data with few or no missing values, then we should make a note on those data as special. We'll revisit these data later on. **Either way, you should continue your analysis for now using just the subset of the data with few or no missing values.**"
   ]
  },
  {
   "cell_type": "code",
   "execution_count": 17,
   "metadata": {
    "scrolled": true
   },
   "outputs": [
    {
     "data": {
      "text/html": [
       "<div>\n",
       "<style>\n",
       "    .dataframe thead tr:only-child th {\n",
       "        text-align: right;\n",
       "    }\n",
       "\n",
       "    .dataframe thead th {\n",
       "        text-align: left;\n",
       "    }\n",
       "\n",
       "    .dataframe tbody tr th {\n",
       "        vertical-align: top;\n",
       "    }\n",
       "</style>\n",
       "<table border=\"1\" class=\"dataframe\">\n",
       "  <thead>\n",
       "    <tr style=\"text-align: right;\">\n",
       "      <th></th>\n",
       "      <th>ALTERSKATEGORIE_GROB</th>\n",
       "      <th>ANREDE_KZ</th>\n",
       "      <th>CJT_GESAMTTYP</th>\n",
       "      <th>FINANZ_MINIMALIST</th>\n",
       "      <th>FINANZ_SPARER</th>\n",
       "      <th>FINANZ_VORSORGER</th>\n",
       "      <th>FINANZ_ANLEGER</th>\n",
       "      <th>FINANZ_UNAUFFAELLIGER</th>\n",
       "      <th>FINANZ_HAUSBAUER</th>\n",
       "      <th>FINANZTYP</th>\n",
       "      <th>...</th>\n",
       "      <th>PLZ8_ANTG1</th>\n",
       "      <th>PLZ8_ANTG2</th>\n",
       "      <th>PLZ8_ANTG3</th>\n",
       "      <th>PLZ8_ANTG4</th>\n",
       "      <th>PLZ8_BAUMAX</th>\n",
       "      <th>PLZ8_HHZ</th>\n",
       "      <th>PLZ8_GBZ</th>\n",
       "      <th>ARBEIT</th>\n",
       "      <th>ORTSGR_KLS9</th>\n",
       "      <th>RELAT_AB</th>\n",
       "    </tr>\n",
       "  </thead>\n",
       "  <tbody>\n",
       "    <tr>\n",
       "      <th>0</th>\n",
       "      <td>2.0</td>\n",
       "      <td>1</td>\n",
       "      <td>2.0</td>\n",
       "      <td>3</td>\n",
       "      <td>4</td>\n",
       "      <td>3</td>\n",
       "      <td>5</td>\n",
       "      <td>5</td>\n",
       "      <td>3</td>\n",
       "      <td>4</td>\n",
       "      <td>...</td>\n",
       "      <td>NaN</td>\n",
       "      <td>NaN</td>\n",
       "      <td>NaN</td>\n",
       "      <td>NaN</td>\n",
       "      <td>NaN</td>\n",
       "      <td>NaN</td>\n",
       "      <td>NaN</td>\n",
       "      <td>NaN</td>\n",
       "      <td>NaN</td>\n",
       "      <td>NaN</td>\n",
       "    </tr>\n",
       "    <tr>\n",
       "      <th>1</th>\n",
       "      <td>1.0</td>\n",
       "      <td>2</td>\n",
       "      <td>5.0</td>\n",
       "      <td>1</td>\n",
       "      <td>5</td>\n",
       "      <td>2</td>\n",
       "      <td>5</td>\n",
       "      <td>4</td>\n",
       "      <td>5</td>\n",
       "      <td>1</td>\n",
       "      <td>...</td>\n",
       "      <td>2.0</td>\n",
       "      <td>3.0</td>\n",
       "      <td>2.0</td>\n",
       "      <td>1.0</td>\n",
       "      <td>1.0</td>\n",
       "      <td>5.0</td>\n",
       "      <td>4.0</td>\n",
       "      <td>3.0</td>\n",
       "      <td>5.0</td>\n",
       "      <td>4.0</td>\n",
       "    </tr>\n",
       "    <tr>\n",
       "      <th>2</th>\n",
       "      <td>3.0</td>\n",
       "      <td>2</td>\n",
       "      <td>3.0</td>\n",
       "      <td>1</td>\n",
       "      <td>4</td>\n",
       "      <td>1</td>\n",
       "      <td>2</td>\n",
       "      <td>3</td>\n",
       "      <td>5</td>\n",
       "      <td>1</td>\n",
       "      <td>...</td>\n",
       "      <td>3.0</td>\n",
       "      <td>3.0</td>\n",
       "      <td>1.0</td>\n",
       "      <td>0.0</td>\n",
       "      <td>1.0</td>\n",
       "      <td>4.0</td>\n",
       "      <td>4.0</td>\n",
       "      <td>3.0</td>\n",
       "      <td>5.0</td>\n",
       "      <td>2.0</td>\n",
       "    </tr>\n",
       "    <tr>\n",
       "      <th>3</th>\n",
       "      <td>4.0</td>\n",
       "      <td>2</td>\n",
       "      <td>2.0</td>\n",
       "      <td>4</td>\n",
       "      <td>2</td>\n",
       "      <td>5</td>\n",
       "      <td>2</td>\n",
       "      <td>1</td>\n",
       "      <td>2</td>\n",
       "      <td>6</td>\n",
       "      <td>...</td>\n",
       "      <td>2.0</td>\n",
       "      <td>2.0</td>\n",
       "      <td>2.0</td>\n",
       "      <td>0.0</td>\n",
       "      <td>1.0</td>\n",
       "      <td>3.0</td>\n",
       "      <td>4.0</td>\n",
       "      <td>2.0</td>\n",
       "      <td>3.0</td>\n",
       "      <td>3.0</td>\n",
       "    </tr>\n",
       "    <tr>\n",
       "      <th>4</th>\n",
       "      <td>3.0</td>\n",
       "      <td>1</td>\n",
       "      <td>5.0</td>\n",
       "      <td>4</td>\n",
       "      <td>3</td>\n",
       "      <td>4</td>\n",
       "      <td>1</td>\n",
       "      <td>3</td>\n",
       "      <td>2</td>\n",
       "      <td>5</td>\n",
       "      <td>...</td>\n",
       "      <td>2.0</td>\n",
       "      <td>4.0</td>\n",
       "      <td>2.0</td>\n",
       "      <td>1.0</td>\n",
       "      <td>2.0</td>\n",
       "      <td>3.0</td>\n",
       "      <td>3.0</td>\n",
       "      <td>4.0</td>\n",
       "      <td>6.0</td>\n",
       "      <td>5.0</td>\n",
       "    </tr>\n",
       "  </tbody>\n",
       "</table>\n",
       "<p>5 rows × 79 columns</p>\n",
       "</div>"
      ],
      "text/plain": [
       "   ALTERSKATEGORIE_GROB  ANREDE_KZ  CJT_GESAMTTYP  FINANZ_MINIMALIST  \\\n",
       "0                   2.0          1            2.0                  3   \n",
       "1                   1.0          2            5.0                  1   \n",
       "2                   3.0          2            3.0                  1   \n",
       "3                   4.0          2            2.0                  4   \n",
       "4                   3.0          1            5.0                  4   \n",
       "\n",
       "   FINANZ_SPARER  FINANZ_VORSORGER  FINANZ_ANLEGER  FINANZ_UNAUFFAELLIGER  \\\n",
       "0              4                 3               5                      5   \n",
       "1              5                 2               5                      4   \n",
       "2              4                 1               2                      3   \n",
       "3              2                 5               2                      1   \n",
       "4              3                 4               1                      3   \n",
       "\n",
       "   FINANZ_HAUSBAUER  FINANZTYP    ...     PLZ8_ANTG1  PLZ8_ANTG2  PLZ8_ANTG3  \\\n",
       "0                 3          4    ...            NaN         NaN         NaN   \n",
       "1                 5          1    ...            2.0         3.0         2.0   \n",
       "2                 5          1    ...            3.0         3.0         1.0   \n",
       "3                 2          6    ...            2.0         2.0         2.0   \n",
       "4                 2          5    ...            2.0         4.0         2.0   \n",
       "\n",
       "   PLZ8_ANTG4  PLZ8_BAUMAX  PLZ8_HHZ  PLZ8_GBZ  ARBEIT  ORTSGR_KLS9  RELAT_AB  \n",
       "0         NaN          NaN       NaN       NaN     NaN          NaN       NaN  \n",
       "1         1.0          1.0       5.0       4.0     3.0          5.0       4.0  \n",
       "2         0.0          1.0       4.0       4.0     3.0          5.0       2.0  \n",
       "3         0.0          1.0       3.0       4.0     2.0          3.0       3.0  \n",
       "4         1.0          2.0       3.0       3.0     4.0          6.0       5.0  \n",
       "\n",
       "[5 rows x 79 columns]"
      ]
     },
     "execution_count": 17,
     "metadata": {},
     "output_type": "execute_result"
    }
   ],
   "source": [
    "azdias.head()"
   ]
  },
  {
   "cell_type": "code",
   "execution_count": 18,
   "metadata": {},
   "outputs": [],
   "source": [
    "# How much data is missing in each row of the dataset?\n",
    "row_missing = azdias.isnull().sum(axis=1)"
   ]
  },
  {
   "cell_type": "code",
   "execution_count": 19,
   "metadata": {},
   "outputs": [
    {
     "data": {
      "text/plain": [
       "count    891221.000000\n",
       "mean          5.649894\n",
       "std          13.234687\n",
       "min           0.000000\n",
       "25%           0.000000\n",
       "50%           0.000000\n",
       "75%           3.000000\n",
       "max          49.000000\n",
       "dtype: float64"
      ]
     },
     "execution_count": 19,
     "metadata": {},
     "output_type": "execute_result"
    }
   ],
   "source": [
    "row_missing.describe()"
   ]
  },
  {
   "cell_type": "code",
   "execution_count": 20,
   "metadata": {},
   "outputs": [
    {
     "data": {
      "text/plain": [
       "Text(0.5,0,'# of missing values')"
      ]
     },
     "execution_count": 20,
     "metadata": {},
     "output_type": "execute_result"
    },
    {
     "data": {
      "image/png": "[encoded data removed]",
      "text/plain": [
       "<matplotlib.figure.Figure at 0x7f768598fb38>"
      ]
     },
     "metadata": {
      "needs_background": "light"
     },
     "output_type": "display_data"
    }
   ],
   "source": [
    "plt.hist(row_missing, bins = np.arange(-0.5,row_missing.max()+1,1))\n",
    "plt.yticks(np.arange(0,600000+100000,100000),['0','100k','200k','300k','400k','500k','600k'])\n",
    "plt.ylabel('# of data points')\n",
    "plt.xlabel('# of missing values')"
   ]
  },
  {
   "cell_type": "markdown",
   "metadata": {},
   "source": [
    "I see that most of the row missing amount are between 0 and 10. Therefore, I pick 10 as a threshold."
   ]
  },
  {
   "cell_type": "code",
   "execution_count": 21,
   "metadata": {},
   "outputs": [],
   "source": [
    "# Write code to divide the data into two subsets based on the number of missing\n",
    "# values in each row.\n",
    "less_missing = azdias.loc[row_missing <= 10]\n",
    "more_missing = azdias.loc[row_missing > 10]"
   ]
  },
  {
   "cell_type": "code",
   "execution_count": 22,
   "metadata": {},
   "outputs": [],
   "source": [
    "def Compare_plots(column):\n",
    "    '''\n",
    "    To plot two graphs comparing the distributions between those with more missing values and those without\n",
    "    '''\n",
    "    ncount = len(less_missing)\n",
    "    sns.set(rc={'figure.figsize':(12,10)})\n",
    "    plt.subplot(221)\n",
    "    plt.subplot(2, 2, 1)\n",
    "    ax1 = sns.countplot(x=column, data=less_missing)\n",
    "    plt.title('Distribution of %s with less missing' %column)\n",
    "    for p in ax1.patches:\n",
    "        x=p.get_bbox().get_points()[:,0]\n",
    "        y=p.get_bbox().get_points()[1,1]\n",
    "        ax1.annotate('{:.1f}%'.format(100.*y/ncount), (x.mean(), y), \n",
    "            ha='center', va='bottom')\n",
    "\n",
    "    ncount = len(more_missing)\n",
    "    plt.subplot(222)\n",
    "    ax2 = sns.countplot(x=column, data=more_missing)\n",
    "    plt.title('Distribution of %s with more missing' %column)\n",
    "    for p in ax2.patches:\n",
    "        x=p.get_bbox().get_points()[:,0]\n",
    "        y=p.get_bbox().get_points()[1,1]\n",
    "        ax2.annotate('{:.1f}%'.format(100.*y/ncount), (x.mean(), y), \n",
    "            ha='center', va='bottom')\n",
    "    plt.show()"
   ]
  },
  {
   "cell_type": "code",
   "execution_count": 23,
   "metadata": {},
   "outputs": [
    {
     "data": {
      "text/plain": [
       "ANREDE_KZ                0\n",
       "FINANZ_MINIMALIST        0\n",
       "FINANZ_SPARER            0\n",
       "FINANZ_VORSORGER         0\n",
       "FINANZ_ANLEGER           0\n",
       "FINANZ_UNAUFFAELLIGER    0\n",
       "FINANZ_HAUSBAUER         0\n",
       "FINANZTYP                0\n",
       "GREEN_AVANTGARDE         0\n",
       "SEMIO_SOZ                0\n",
       "SEMIO_FAM                0\n",
       "SEMIO_REL                0\n",
       "SEMIO_MAT                0\n",
       "SEMIO_VERT               0\n",
       "SEMIO_LUST               0\n",
       "SEMIO_ERL                0\n",
       "SEMIO_KULT               0\n",
       "SEMIO_RAT                0\n",
       "SEMIO_KRIT               0\n",
       "SEMIO_DOM                0\n",
       "SEMIO_KAEM               0\n",
       "SEMIO_PFLICHT            0\n",
       "SEMIO_TRADV              0\n",
       "ZABEOTYP                 0\n",
       "dtype: int64"
      ]
     },
     "execution_count": 23,
     "metadata": {},
     "output_type": "execute_result"
    }
   ],
   "source": [
    "# To see which columns have no missing values\n",
    "after[after == 0]"
   ]
  },
  {
   "cell_type": "code",
   "execution_count": 24,
   "metadata": {},
   "outputs": [
    {
     "name": "stderr",
     "output_type": "stream",
     "text": [
      "/opt/conda/lib/python3.6/site-packages/matplotlib/cbook/deprecation.py:106: MatplotlibDeprecationWarning: Adding an axes using the same arguments as a previous axes currently reuses the earlier instance.  In a future version, a new instance will always be created and returned.  Meanwhile, this warning can be suppressed, and the future behavior ensured, by passing a unique label to each axes instance.\n",
      "  warnings.warn(message, mplDeprecation, stacklevel=1)\n"
     ]
    },
    {
     "data": {
      "image/png": "[encoded data removed]",
      "text/plain": [
       "<matplotlib.figure.Figure at 0x7f76858469b0>"
      ]
     },
     "metadata": {},
     "output_type": "display_data"
    }
   ],
   "source": [
    "# Compare the distribution of values for at least five columns where there are\n",
    "# no or few missing values, between the two subsets.\n",
    "\n",
    "Compare_plots('ANREDE_KZ')"
   ]
  },
  {
   "cell_type": "markdown",
   "metadata": {},
   "source": [
    "Here, the difference is hardly nothing. Let's see other features."
   ]
  },
  {
   "cell_type": "code",
   "execution_count": 25,
   "metadata": {},
   "outputs": [
    {
     "name": "stderr",
     "output_type": "stream",
     "text": [
      "/opt/conda/lib/python3.6/site-packages/matplotlib/cbook/deprecation.py:106: MatplotlibDeprecationWarning: Adding an axes using the same arguments as a previous axes currently reuses the earlier instance.  In a future version, a new instance will always be created and returned.  Meanwhile, this warning can be suppressed, and the future behavior ensured, by passing a unique label to each axes instance.\n",
      "  warnings.warn(message, mplDeprecation, stacklevel=1)\n"
     ]
    },
    {
     "data": {
      "image/png": "[encoded data removed]",
      "text/plain": [
       "<matplotlib.figure.Figure at 0x7f7685a2ae48>"
      ]
     },
     "metadata": {},
     "output_type": "display_data"
    }
   ],
   "source": [
    "Compare_plots('FINANZ_SPARER')"
   ]
  },
  {
   "cell_type": "markdown",
   "metadata": {},
   "source": [
    "The difference is obvious here in Finanz_sparer here. The difference between the proportions of 1 and 4 between two datasets are the most significant, as we can tell from the graphs."
   ]
  },
  {
   "cell_type": "code",
   "execution_count": 26,
   "metadata": {},
   "outputs": [
    {
     "name": "stderr",
     "output_type": "stream",
     "text": [
      "/opt/conda/lib/python3.6/site-packages/matplotlib/cbook/deprecation.py:106: MatplotlibDeprecationWarning: Adding an axes using the same arguments as a previous axes currently reuses the earlier instance.  In a future version, a new instance will always be created and returned.  Meanwhile, this warning can be suppressed, and the future behavior ensured, by passing a unique label to each axes instance.\n",
      "  warnings.warn(message, mplDeprecation, stacklevel=1)\n"
     ]
    },
    {
     "data": {
      "image/png": "[encoded data removed]",
      "text/plain": [
       "<matplotlib.figure.Figure at 0x7f7668440550>"
      ]
     },
     "metadata": {},
     "output_type": "display_data"
    }
   ],
   "source": [
    "Compare_plots('FINANZ_VORSORGER')"
   ]
  },
  {
   "cell_type": "markdown",
   "metadata": {},
   "source": [
    "Another significant difference. For the dataset with less missing values, the distribution is following the ordinality growing. In contrast, that of more missing values is biased to 3, which is average."
   ]
  },
  {
   "cell_type": "code",
   "execution_count": 27,
   "metadata": {},
   "outputs": [
    {
     "name": "stderr",
     "output_type": "stream",
     "text": [
      "/opt/conda/lib/python3.6/site-packages/matplotlib/cbook/deprecation.py:106: MatplotlibDeprecationWarning: Adding an axes using the same arguments as a previous axes currently reuses the earlier instance.  In a future version, a new instance will always be created and returned.  Meanwhile, this warning can be suppressed, and the future behavior ensured, by passing a unique label to each axes instance.\n",
      "  warnings.warn(message, mplDeprecation, stacklevel=1)\n"
     ]
    },
    {
     "data": {
      "image/png": "[encoded data removed]",
      "text/plain": [
       "<matplotlib.figure.Figure at 0x7f768592d9b0>"
      ]
     },
     "metadata": {},
     "output_type": "display_data"
    }
   ],
   "source": [
    "Compare_plots('SEMIO_SOZ')"
   ]
  },
  {
   "cell_type": "code",
   "execution_count": 28,
   "metadata": {},
   "outputs": [
    {
     "name": "stderr",
     "output_type": "stream",
     "text": [
      "/opt/conda/lib/python3.6/site-packages/matplotlib/cbook/deprecation.py:106: MatplotlibDeprecationWarning: Adding an axes using the same arguments as a previous axes currently reuses the earlier instance.  In a future version, a new instance will always be created and returned.  Meanwhile, this warning can be suppressed, and the future behavior ensured, by passing a unique label to each axes instance.\n",
      "  warnings.warn(message, mplDeprecation, stacklevel=1)\n"
     ]
    },
    {
     "data": {
      "image/png": "[encoded data removed]",
      "text/plain": [
       "<matplotlib.figure.Figure at 0x7f7668367748>"
      ]
     },
     "metadata": {},
     "output_type": "display_data"
    }
   ],
   "source": [
    "Compare_plots('ZABEOTYP')"
   ]
  },
  {
   "cell_type": "markdown",
   "metadata": {},
   "source": [
    "#### Discussion 1.1.3: Assess Missing Data in Each Row\n",
    "\n",
    "As observations, it seems that the dataset with more missing values is pretty biased in more than just a few columns. If I need to make the decision about using which one to do the analysis, I'll use those with less missing values not just because the amount of missing values but also the distribution."
   ]
  },
  {
   "cell_type": "code",
   "execution_count": 29,
   "metadata": {},
   "outputs": [],
   "source": [
    "azdias = less_missing"
   ]
  },
  {
   "cell_type": "markdown",
   "metadata": {},
   "source": [
    "### Step 1.2: Select and Re-Encode Features\n",
    "\n",
    "Checking for missing data isn't the only way in which you can prepare a dataset for analysis. Since the unsupervised learning techniques to be used will only work on data that is encoded numerically, you need to make a few encoding changes or additional assumptions to be able to make progress. In addition, while almost all of the values in the dataset are encoded using numbers, not all of them represent numeric values. Check the third column of the feature summary (`feat_info`) for a summary of types of measurement.\n",
    "- For numeric and interval data, these features can be kept without changes.\n",
    "- Most of the variables in the dataset are ordinal in nature. While ordinal values may technically be non-linear in spacing, make the simplifying assumption that the ordinal variables can be treated as being interval in nature (that is, kept without any changes).\n",
    "- Special handling may be necessary for the remaining two variable types: categorical, and 'mixed'.\n",
    "\n",
    "In the first two parts of this sub-step, you will perform an investigation of the categorical and mixed-type features and make a decision on each of them, whether you will keep, drop, or re-encode each. Then, in the last part, you will create a new data frame with only the selected and engineered columns.\n",
    "\n",
    "Data wrangling is often the trickiest part of the data analysis process, and there's a lot of it to be done here. But stick with it: once you're done with this step, you'll be ready to get to the machine learning parts of the project!"
   ]
  },
  {
   "cell_type": "code",
   "execution_count": 30,
   "metadata": {},
   "outputs": [
    {
     "data": {
      "text/plain": [
       "ordinal        49\n",
       "categorical    18\n",
       "mixed           6\n",
       "numeric         6\n",
       "Name: type, dtype: int64"
      ]
     },
     "execution_count": 30,
     "metadata": {},
     "output_type": "execute_result"
    }
   ],
   "source": [
    "# How many features are there of each data type?\n",
    "feat_info.type.value_counts()"
   ]
  },
  {
   "cell_type": "markdown",
   "metadata": {},
   "source": [
    "I have dropped the interval variable before for its great amount of missing values. And I'll keep the numeric data as the instruction suggested. However, about the ordinal data, I assume that it would be better to treat them as dummy variables since the difference between different levels might not be linear equally."
   ]
  },
  {
   "cell_type": "code",
   "execution_count": 31,
   "metadata": {},
   "outputs": [],
   "source": [
    "ordinal = list(feat_info.loc[feat_info['type']=='ordinal']['attribute'])\n",
    "azdias = pd.get_dummies(azdias, prefix=ordinal, columns=ordinal)"
   ]
  },
  {
   "cell_type": "code",
   "execution_count": 32,
   "metadata": {},
   "outputs": [
    {
     "data": {
      "text/plain": [
       "(780153, 315)"
      ]
     },
     "execution_count": 32,
     "metadata": {},
     "output_type": "execute_result"
    }
   ],
   "source": [
    "azdias.shape"
   ]
  },
  {
   "cell_type": "markdown",
   "metadata": {},
   "source": [
    "#### Step 1.2.1: Re-Encode Categorical Features\n",
    "\n",
    "For categorical data, you would ordinarily need to encode the levels as dummy variables. Depending on the number of categories, perform one of the following:\n",
    "- For binary (two-level) categoricals that take numeric values, you can keep them without needing to do anything.\n",
    "- There is one binary variable that takes on non-numeric values. For this one, you need to re-encode the values as numbers or create a dummy variable.\n",
    "- For multi-level categoricals (three or more values), you can choose to encode the values using multiple dummy variables (e.g. via [OneHotEncoder](http://scikit-learn.org/stable/modules/generated/sklearn.preprocessing.OneHotEncoder.html)), or (to keep things straightforward) just drop them from the analysis. As always, document your choices in the Discussion section."
   ]
  },
  {
   "cell_type": "code",
   "execution_count": 33,
   "metadata": {},
   "outputs": [],
   "source": [
    "categorical = list(feat_info.loc[feat_info['type']=='categorical']['attribute'])"
   ]
  },
  {
   "cell_type": "code",
   "execution_count": 34,
   "metadata": {},
   "outputs": [
    {
     "data": {
      "text/plain": [
       "ANREDE_KZ            2\n",
       "CJT_GESAMTTYP        6\n",
       "FINANZTYP            6\n",
       "GFK_URLAUBERTYP     12\n",
       "GREEN_AVANTGARDE     2\n",
       "LP_FAMILIE_FEIN     11\n",
       "LP_FAMILIE_GROB      5\n",
       "LP_STATUS_FEIN      10\n",
       "LP_STATUS_GROB       5\n",
       "NATIONALITAET_KZ     3\n",
       "SHOPPER_TYP          4\n",
       "SOHO_KZ              2\n",
       "VERS_TYP             2\n",
       "ZABEOTYP             6\n",
       "GEBAEUDETYP          7\n",
       "OST_WEST_KZ          2\n",
       "CAMEO_DEUG_2015      9\n",
       "CAMEO_DEU_2015      44\n",
       "dtype: int64"
      ]
     },
     "execution_count": 34,
     "metadata": {},
     "output_type": "execute_result"
    }
   ],
   "source": [
    "# Assess categorical variables: which are binary, which are multi-level, and\n",
    "# which one needs to be re-encoded?\n",
    "azdias[categorical].nunique()"
   ]
  },
  {
   "cell_type": "markdown",
   "metadata": {},
   "source": [
    "We can see there are ANREDE_KZ, GREEN_AVANTGARDE, SOHO_KZ, VERS_TYP, and OST_WEST_KZ are binary. Besides these, I'll encode the other into dummy variables. including those mixed variables."
   ]
  },
  {
   "cell_type": "code",
   "execution_count": 35,
   "metadata": {},
   "outputs": [
    {
     "data": {
      "text/html": [
       "<div>\n",
       "<style>\n",
       "    .dataframe thead tr:only-child th {\n",
       "        text-align: right;\n",
       "    }\n",
       "\n",
       "    .dataframe thead th {\n",
       "        text-align: left;\n",
       "    }\n",
       "\n",
       "    .dataframe tbody tr th {\n",
       "        vertical-align: top;\n",
       "    }\n",
       "</style>\n",
       "<table border=\"1\" class=\"dataframe\">\n",
       "  <thead>\n",
       "    <tr style=\"text-align: right;\">\n",
       "      <th></th>\n",
       "      <th>ANREDE_KZ</th>\n",
       "      <th>GREEN_AVANTGARDE</th>\n",
       "      <th>SOHO_KZ</th>\n",
       "      <th>VERS_TYP</th>\n",
       "      <th>OST_WEST_KZ</th>\n",
       "    </tr>\n",
       "  </thead>\n",
       "  <tbody>\n",
       "    <tr>\n",
       "      <th>1</th>\n",
       "      <td>2</td>\n",
       "      <td>0</td>\n",
       "      <td>1.0</td>\n",
       "      <td>2.0</td>\n",
       "      <td>W</td>\n",
       "    </tr>\n",
       "    <tr>\n",
       "      <th>2</th>\n",
       "      <td>2</td>\n",
       "      <td>1</td>\n",
       "      <td>0.0</td>\n",
       "      <td>1.0</td>\n",
       "      <td>W</td>\n",
       "    </tr>\n",
       "    <tr>\n",
       "      <th>3</th>\n",
       "      <td>2</td>\n",
       "      <td>0</td>\n",
       "      <td>0.0</td>\n",
       "      <td>1.0</td>\n",
       "      <td>W</td>\n",
       "    </tr>\n",
       "    <tr>\n",
       "      <th>4</th>\n",
       "      <td>1</td>\n",
       "      <td>0</td>\n",
       "      <td>0.0</td>\n",
       "      <td>2.0</td>\n",
       "      <td>W</td>\n",
       "    </tr>\n",
       "    <tr>\n",
       "      <th>5</th>\n",
       "      <td>2</td>\n",
       "      <td>0</td>\n",
       "      <td>0.0</td>\n",
       "      <td>2.0</td>\n",
       "      <td>W</td>\n",
       "    </tr>\n",
       "  </tbody>\n",
       "</table>\n",
       "</div>"
      ],
      "text/plain": [
       "   ANREDE_KZ  GREEN_AVANTGARDE  SOHO_KZ  VERS_TYP OST_WEST_KZ\n",
       "1          2                 0      1.0       2.0           W\n",
       "2          2                 1      0.0       1.0           W\n",
       "3          2                 0      0.0       1.0           W\n",
       "4          1                 0      0.0       2.0           W\n",
       "5          2                 0      0.0       2.0           W"
      ]
     },
     "execution_count": 35,
     "metadata": {},
     "output_type": "execute_result"
    }
   ],
   "source": [
    "azdias[['ANREDE_KZ','GREEN_AVANTGARDE', 'SOHO_KZ', 'VERS_TYP', 'OST_WEST_KZ']].head()"
   ]
  },
  {
   "cell_type": "markdown",
   "metadata": {},
   "source": [
    "Since these two-factor features are encoded with 1 and 2 or 0 and 1, I'll keep them unchanged, except OST_WEST_KZ"
   ]
  },
  {
   "cell_type": "code",
   "execution_count": 36,
   "metadata": {},
   "outputs": [],
   "source": [
    "# Re-encode categorical variable(s) to be kept in the analysis.\n",
    "categorical = list(feat_info.loc[feat_info['type']=='categorical']['attribute'])\n",
    "for i in ['ANREDE_KZ','GREEN_AVANTGARDE', 'SOHO_KZ', 'VERS_TYP','GEBAEUDETYP']:\n",
    "    categorical.remove(i)"
   ]
  },
  {
   "cell_type": "code",
   "execution_count": 37,
   "metadata": {},
   "outputs": [],
   "source": [
    "azdias = pd.get_dummies(azdias, prefix=categorical, columns=categorical)"
   ]
  },
  {
   "cell_type": "code",
   "execution_count": 38,
   "metadata": {},
   "outputs": [
    {
     "data": {
      "text/plain": [
       "(780153, 425)"
      ]
     },
     "execution_count": 38,
     "metadata": {},
     "output_type": "execute_result"
    }
   ],
   "source": [
    "azdias.shape"
   ]
  },
  {
   "cell_type": "markdown",
   "metadata": {},
   "source": [
    "#### Discussion 1.2.1: Re-Encode Categorical Features\n",
    "\n",
    "Except those categorical features with only two factors I keep it unchanged, I turned all the others into dummy variables. And there are 410 features in total."
   ]
  },
  {
   "cell_type": "markdown",
   "metadata": {},
   "source": [
    "#### Step 1.2.2: Engineer Mixed-Type Features\n",
    "\n",
    "There are a handful of features that are marked as \"mixed\" in the feature summary that require special treatment in order to be included in the analysis. There are two in particular that deserve attention; the handling of the rest are up to your own choices:\n",
    "- \"PRAEGENDE_JUGENDJAHRE\" combines information on three dimensions: generation by decade, movement (mainstream vs. avantgarde), and nation (east vs. west). While there aren't enough levels to disentangle east from west, you should create two new variables to capture the other two dimensions: an interval-type variable for decade, and a binary variable for movement.\n",
    "- \"CAMEO_INTL_2015\" combines information on two axes: wealth and life stage. Break up the two-digit codes by their 'tens'-place and 'ones'-place digits into two new ordinal variables (which, for the purposes of this project, is equivalent to just treating them as their raw numeric values).\n",
    "- If you decide to keep or engineer new features around the other mixed-type features, make sure you note your steps in the Discussion section.\n",
    "\n",
    "Be sure to check `Data_Dictionary.md` for the details needed to finish these tasks."
   ]
  },
  {
   "cell_type": "markdown",
   "metadata": {},
   "source": [
    "### Investigate \"PRAEGENDE_JUGENDJAHRE\" and engineer two new variables.\n",
    "\n",
    "Dominating movement of person's youth (avantgarde vs. mainstream; east vs. west)\n",
    "- -1: unknown\n",
    "-  0: unknown\n",
    "-  1: 40s - war years (Mainstream, E+W)\n",
    "-  2: 40s - reconstruction years (Avantgarde, E+W)\n",
    "-  3: 50s - economic miracle (Mainstream, E+W)\n",
    "-  4: 50s - milk bar / Individualisation (Avantgarde, E+W)\n",
    "-  5: 60s - economic miracle (Mainstream, E+W)\n",
    "-  6: 60s - generation 68 / student protestors (Avantgarde, W)\n",
    "-  7: 60s - opponents to the building of the Wall (Avantgarde, E)\n",
    "-  8: 70s - family orientation (Mainstream, E+W)\n",
    "-  9: 70s - peace movement (Avantgarde, E+W)\n",
    "- 10: 80s - Generation Golf (Mainstream, W)\n",
    "- 11: 80s - ecological awareness (Avantgarde, W)\n",
    "- 12: 80s - FDJ / communist party youth organisation (Mainstream, E)\n",
    "- 13: 80s - Swords into ploughshares (Avantgarde, E)\n",
    "- 14: 90s - digital media kids (Mainstream, E+W)\n",
    "- 15: 90s - ecological awareness (Avantgarde, E+W)\n",
    "\n",
    "Therefore, I'm going to create three more features based on these.\n",
    "\n",
    "[Era] as decade, [movement], and [region] for E or W or E+W"
   ]
  },
  {
   "cell_type": "code",
   "execution_count": 39,
   "metadata": {},
   "outputs": [],
   "source": [
    "azdias['Era'] = 0\n",
    "# 1 is 40s\n",
    "# 2 is 50s\n",
    "# 3 is 60s\n",
    "# 4 is 70s\n",
    "# 5 is 80s\n",
    "# 6 is 90s\n",
    "\n",
    "azdias.loc[azdias.PRAEGENDE_JUGENDJAHRE == 1,'Era']=1\n",
    "azdias.loc[azdias.PRAEGENDE_JUGENDJAHRE == 2,'Era']=1\n",
    "azdias.loc[azdias.PRAEGENDE_JUGENDJAHRE == 3,'Era']=2\n",
    "azdias.loc[azdias.PRAEGENDE_JUGENDJAHRE == 4,'Era']=2\n",
    "azdias.loc[azdias.PRAEGENDE_JUGENDJAHRE == 5,'Era']=3\n",
    "azdias.loc[azdias.PRAEGENDE_JUGENDJAHRE == 6,'Era']=3\n",
    "azdias.loc[azdias.PRAEGENDE_JUGENDJAHRE == 7,'Era']=3\n",
    "azdias.loc[azdias.PRAEGENDE_JUGENDJAHRE == 8,'Era']=4\n",
    "azdias.loc[azdias.PRAEGENDE_JUGENDJAHRE == 9,'Era']=4\n",
    "azdias.loc[azdias.PRAEGENDE_JUGENDJAHRE == 10,'Era']=5\n",
    "azdias.loc[azdias.PRAEGENDE_JUGENDJAHRE == 11,'Era']=5\n",
    "azdias.loc[azdias.PRAEGENDE_JUGENDJAHRE == 12,'Era']=5\n",
    "azdias.loc[azdias.PRAEGENDE_JUGENDJAHRE == 13,'Era']=5\n",
    "azdias.loc[azdias.PRAEGENDE_JUGENDJAHRE == 14,'Era']=6\n",
    "azdias.loc[azdias.PRAEGENDE_JUGENDJAHRE == 15,'Era']=6"
   ]
  },
  {
   "cell_type": "code",
   "execution_count": 40,
   "metadata": {},
   "outputs": [],
   "source": [
    "azdias['movement'] = 0\n",
    "# 0 is Mainstream\n",
    "# 1 is Avantgrade\n",
    "\n",
    "azdias.loc[azdias.PRAEGENDE_JUGENDJAHRE == 2,'movement']=1\n",
    "azdias.loc[azdias.PRAEGENDE_JUGENDJAHRE == 4,'movement']=1\n",
    "azdias.loc[azdias.PRAEGENDE_JUGENDJAHRE == 6,'movement']=1\n",
    "azdias.loc[azdias.PRAEGENDE_JUGENDJAHRE == 7,'movement']=1\n",
    "azdias.loc[azdias.PRAEGENDE_JUGENDJAHRE == 9,'movement']=1\n",
    "azdias.loc[azdias.PRAEGENDE_JUGENDJAHRE == 11,'movement']=1\n",
    "azdias.loc[azdias.PRAEGENDE_JUGENDJAHRE == 13,'movement']=1\n",
    "azdias.loc[azdias.PRAEGENDE_JUGENDJAHRE == 15,'movement']=1"
   ]
  },
  {
   "cell_type": "code",
   "execution_count": 41,
   "metadata": {},
   "outputs": [],
   "source": [
    "azdias['region'] = 0\n",
    "# I'll encode with character and then transform them into dummy variables\n",
    "\n",
    "azdias.loc[azdias.PRAEGENDE_JUGENDJAHRE == 1,'region']='E+W'\n",
    "azdias.loc[azdias.PRAEGENDE_JUGENDJAHRE == 2,'region']='E+W'\n",
    "azdias.loc[azdias.PRAEGENDE_JUGENDJAHRE == 3,'region']='E+W'\n",
    "azdias.loc[azdias.PRAEGENDE_JUGENDJAHRE == 4,'region']='E+W'\n",
    "azdias.loc[azdias.PRAEGENDE_JUGENDJAHRE == 5,'region']='E+W'\n",
    "azdias.loc[azdias.PRAEGENDE_JUGENDJAHRE == 6,'region']='W'\n",
    "azdias.loc[azdias.PRAEGENDE_JUGENDJAHRE == 7,'region']='E'\n",
    "azdias.loc[azdias.PRAEGENDE_JUGENDJAHRE == 8,'region']='E+W'\n",
    "azdias.loc[azdias.PRAEGENDE_JUGENDJAHRE == 9,'region']='E+W'\n",
    "azdias.loc[azdias.PRAEGENDE_JUGENDJAHRE == 10,'region']='W'\n",
    "azdias.loc[azdias.PRAEGENDE_JUGENDJAHRE == 11,'region']='W'\n",
    "azdias.loc[azdias.PRAEGENDE_JUGENDJAHRE == 12,'region']='E'\n",
    "azdias.loc[azdias.PRAEGENDE_JUGENDJAHRE == 13,'region']='E'\n",
    "azdias.loc[azdias.PRAEGENDE_JUGENDJAHRE == 14,'region']='E+W'\n",
    "azdias.loc[azdias.PRAEGENDE_JUGENDJAHRE == 15,'region']='E+W'"
   ]
  },
  {
   "cell_type": "code",
   "execution_count": 42,
   "metadata": {},
   "outputs": [],
   "source": [
    "azdias = pd.get_dummies(azdias, prefix=['region'], columns=['region'])"
   ]
  },
  {
   "cell_type": "markdown",
   "metadata": {},
   "source": [
    "### Investigate \"CAMEO_INTL_2015\" and engineer two new variables.\n",
    "German CAMEO: Wealth / Life Stage Typology, mapped to international code\n",
    "\n",
    "- 11: Wealthy Households - Pre-Family Couples & Singles\n",
    "- 12: Wealthy Households - Young Couples With Children\n",
    "- 13: Wealthy Households - Families With School Age Children\n",
    "- 14: Wealthy Households - Older Families &  Mature Couples\n",
    "- 15: Wealthy Households - Elders In Retirement\n",
    "- 21: Prosperous Households - Pre-Family Couples & Singles\n",
    "- 22: Prosperous Households - Young Couples With Children\n",
    "- 23: Prosperous Households - Families With School Age Children\n",
    "- 24: Prosperous Households - Older Families & Mature Couples\n",
    "- 25: Prosperous Households - Elders In Retirement\n",
    "- 31: Comfortable Households - Pre-Family Couples & Singles\n",
    "- 32: Comfortable Households - Young Couples With Children\n",
    "- 33: Comfortable Households - Families With School Age Children\n",
    "- 34: Comfortable Households - Older Families & Mature Couples\n",
    "- 35: Comfortable Households - Elders In Retirement\n",
    "- 41: Less Affluent Households - Pre-Family Couples & Singles\n",
    "- 42: Less Affluent Households - Young Couples With Children\n",
    "- 43: Less Affluent Households - Families With School Age Children\n",
    "- 44: Less Affluent Households - Older Families & Mature Couples\n",
    "- 45: Less Affluent Households - Elders In Retirement\n",
    "- 51: Poorer Households - Pre-Family Couples & Singles\n",
    "- 52: Poorer Households - Young Couples With Children\n",
    "- 53: Poorer Households - Families With School Age Children\n",
    "- 54: Poorer Households - Older Families & Mature Couples\n",
    "- 55: Poorer Households - Elders In Retirement\n",
    "\n",
    "I'll create two features correspond to the two part of the feature here\n",
    "[Economics_Situation] and [Relationship_Situation]"
   ]
  },
  {
   "cell_type": "code",
   "execution_count": 43,
   "metadata": {},
   "outputs": [],
   "source": [
    "azdias['Economics_Situation'] = azdias['CAMEO_INTL_2015'].str[0]\n",
    "azdias['Relationship_Situation'] = azdias['CAMEO_INTL_2015'].str[1]"
   ]
  },
  {
   "cell_type": "markdown",
   "metadata": {},
   "source": [
    "I'll only treat Relationship_Situation as dummy variable because it is not an ordinal relation between a factor and another factor"
   ]
  },
  {
   "cell_type": "code",
   "execution_count": 44,
   "metadata": {},
   "outputs": [],
   "source": [
    "azdias = pd.get_dummies(azdias, prefix=['Relationship_Situation'], columns=['Relationship_Situation'])"
   ]
  },
  {
   "cell_type": "code",
   "execution_count": 45,
   "metadata": {},
   "outputs": [],
   "source": [
    "azdias.drop(['PRAEGENDE_JUGENDJAHRE','CAMEO_INTL_2015'],axis=1, inplace=True)"
   ]
  },
  {
   "cell_type": "code",
   "execution_count": 46,
   "metadata": {},
   "outputs": [
    {
     "data": {
      "text/plain": [
       "(780153, 435)"
      ]
     },
     "execution_count": 46,
     "metadata": {},
     "output_type": "execute_result"
    }
   ],
   "source": [
    "azdias.shape"
   ]
  },
  {
   "cell_type": "code",
   "execution_count": 47,
   "metadata": {},
   "outputs": [
    {
     "data": {
      "text/html": [
       "<div>\n",
       "<style>\n",
       "    .dataframe thead tr:only-child th {\n",
       "        text-align: right;\n",
       "    }\n",
       "\n",
       "    .dataframe thead th {\n",
       "        text-align: left;\n",
       "    }\n",
       "\n",
       "    .dataframe tbody tr th {\n",
       "        vertical-align: top;\n",
       "    }\n",
       "</style>\n",
       "<table border=\"1\" class=\"dataframe\">\n",
       "  <thead>\n",
       "    <tr style=\"text-align: right;\">\n",
       "      <th></th>\n",
       "      <th>ANREDE_KZ</th>\n",
       "      <th>GREEN_AVANTGARDE</th>\n",
       "      <th>LP_LEBENSPHASE_FEIN</th>\n",
       "      <th>LP_LEBENSPHASE_GROB</th>\n",
       "      <th>SOHO_KZ</th>\n",
       "      <th>VERS_TYP</th>\n",
       "      <th>ANZ_PERSONEN</th>\n",
       "      <th>ANZ_TITEL</th>\n",
       "      <th>ANZ_HAUSHALTE_AKTIV</th>\n",
       "      <th>ANZ_HH_TITEL</th>\n",
       "      <th>...</th>\n",
       "      <th>region_0</th>\n",
       "      <th>region_E</th>\n",
       "      <th>region_E+W</th>\n",
       "      <th>region_W</th>\n",
       "      <th>Economics_Situation</th>\n",
       "      <th>Relationship_Situation_1</th>\n",
       "      <th>Relationship_Situation_2</th>\n",
       "      <th>Relationship_Situation_3</th>\n",
       "      <th>Relationship_Situation_4</th>\n",
       "      <th>Relationship_Situation_5</th>\n",
       "    </tr>\n",
       "  </thead>\n",
       "  <tbody>\n",
       "    <tr>\n",
       "      <th>1</th>\n",
       "      <td>2</td>\n",
       "      <td>0</td>\n",
       "      <td>21.0</td>\n",
       "      <td>6.0</td>\n",
       "      <td>1.0</td>\n",
       "      <td>2.0</td>\n",
       "      <td>2.0</td>\n",
       "      <td>0.0</td>\n",
       "      <td>11.0</td>\n",
       "      <td>0.0</td>\n",
       "      <td>...</td>\n",
       "      <td>0</td>\n",
       "      <td>0</td>\n",
       "      <td>1</td>\n",
       "      <td>0</td>\n",
       "      <td>5</td>\n",
       "      <td>1</td>\n",
       "      <td>0</td>\n",
       "      <td>0</td>\n",
       "      <td>0</td>\n",
       "      <td>0</td>\n",
       "    </tr>\n",
       "    <tr>\n",
       "      <th>2</th>\n",
       "      <td>2</td>\n",
       "      <td>1</td>\n",
       "      <td>3.0</td>\n",
       "      <td>1.0</td>\n",
       "      <td>0.0</td>\n",
       "      <td>1.0</td>\n",
       "      <td>1.0</td>\n",
       "      <td>0.0</td>\n",
       "      <td>10.0</td>\n",
       "      <td>0.0</td>\n",
       "      <td>...</td>\n",
       "      <td>0</td>\n",
       "      <td>0</td>\n",
       "      <td>1</td>\n",
       "      <td>0</td>\n",
       "      <td>2</td>\n",
       "      <td>0</td>\n",
       "      <td>0</td>\n",
       "      <td>0</td>\n",
       "      <td>1</td>\n",
       "      <td>0</td>\n",
       "    </tr>\n",
       "    <tr>\n",
       "      <th>3</th>\n",
       "      <td>2</td>\n",
       "      <td>0</td>\n",
       "      <td>NaN</td>\n",
       "      <td>NaN</td>\n",
       "      <td>0.0</td>\n",
       "      <td>1.0</td>\n",
       "      <td>0.0</td>\n",
       "      <td>0.0</td>\n",
       "      <td>1.0</td>\n",
       "      <td>0.0</td>\n",
       "      <td>...</td>\n",
       "      <td>0</td>\n",
       "      <td>0</td>\n",
       "      <td>1</td>\n",
       "      <td>0</td>\n",
       "      <td>1</td>\n",
       "      <td>0</td>\n",
       "      <td>1</td>\n",
       "      <td>0</td>\n",
       "      <td>0</td>\n",
       "      <td>0</td>\n",
       "    </tr>\n",
       "    <tr>\n",
       "      <th>4</th>\n",
       "      <td>1</td>\n",
       "      <td>0</td>\n",
       "      <td>32.0</td>\n",
       "      <td>10.0</td>\n",
       "      <td>0.0</td>\n",
       "      <td>2.0</td>\n",
       "      <td>4.0</td>\n",
       "      <td>0.0</td>\n",
       "      <td>3.0</td>\n",
       "      <td>0.0</td>\n",
       "      <td>...</td>\n",
       "      <td>0</td>\n",
       "      <td>0</td>\n",
       "      <td>1</td>\n",
       "      <td>0</td>\n",
       "      <td>4</td>\n",
       "      <td>0</td>\n",
       "      <td>0</td>\n",
       "      <td>1</td>\n",
       "      <td>0</td>\n",
       "      <td>0</td>\n",
       "    </tr>\n",
       "    <tr>\n",
       "      <th>5</th>\n",
       "      <td>2</td>\n",
       "      <td>0</td>\n",
       "      <td>8.0</td>\n",
       "      <td>2.0</td>\n",
       "      <td>0.0</td>\n",
       "      <td>2.0</td>\n",
       "      <td>1.0</td>\n",
       "      <td>0.0</td>\n",
       "      <td>5.0</td>\n",
       "      <td>0.0</td>\n",
       "      <td>...</td>\n",
       "      <td>0</td>\n",
       "      <td>0</td>\n",
       "      <td>1</td>\n",
       "      <td>0</td>\n",
       "      <td>5</td>\n",
       "      <td>0</td>\n",
       "      <td>0</td>\n",
       "      <td>0</td>\n",
       "      <td>1</td>\n",
       "      <td>0</td>\n",
       "    </tr>\n",
       "  </tbody>\n",
       "</table>\n",
       "<p>5 rows × 435 columns</p>\n",
       "</div>"
      ],
      "text/plain": [
       "   ANREDE_KZ  GREEN_AVANTGARDE  LP_LEBENSPHASE_FEIN  LP_LEBENSPHASE_GROB  \\\n",
       "1          2                 0                 21.0                  6.0   \n",
       "2          2                 1                  3.0                  1.0   \n",
       "3          2                 0                  NaN                  NaN   \n",
       "4          1                 0                 32.0                 10.0   \n",
       "5          2                 0                  8.0                  2.0   \n",
       "\n",
       "   SOHO_KZ  VERS_TYP  ANZ_PERSONEN  ANZ_TITEL  ANZ_HAUSHALTE_AKTIV  \\\n",
       "1      1.0       2.0           2.0        0.0                 11.0   \n",
       "2      0.0       1.0           1.0        0.0                 10.0   \n",
       "3      0.0       1.0           0.0        0.0                  1.0   \n",
       "4      0.0       2.0           4.0        0.0                  3.0   \n",
       "5      0.0       2.0           1.0        0.0                  5.0   \n",
       "\n",
       "   ANZ_HH_TITEL            ...             region_0  region_E  region_E+W  \\\n",
       "1           0.0            ...                    0         0           1   \n",
       "2           0.0            ...                    0         0           1   \n",
       "3           0.0            ...                    0         0           1   \n",
       "4           0.0            ...                    0         0           1   \n",
       "5           0.0            ...                    0         0           1   \n",
       "\n",
       "   region_W  Economics_Situation  Relationship_Situation_1  \\\n",
       "1         0                    5                         1   \n",
       "2         0                    2                         0   \n",
       "3         0                    1                         0   \n",
       "4         0                    4                         0   \n",
       "5         0                    5                         0   \n",
       "\n",
       "   Relationship_Situation_2  Relationship_Situation_3  \\\n",
       "1                         0                         0   \n",
       "2                         0                         0   \n",
       "3                         1                         0   \n",
       "4                         0                         1   \n",
       "5                         0                         0   \n",
       "\n",
       "   Relationship_Situation_4  Relationship_Situation_5  \n",
       "1                         0                         0  \n",
       "2                         1                         0  \n",
       "3                         0                         0  \n",
       "4                         0                         0  \n",
       "5                         1                         0  \n",
       "\n",
       "[5 rows x 435 columns]"
      ]
     },
     "execution_count": 47,
     "metadata": {},
     "output_type": "execute_result"
    }
   ],
   "source": [
    "azdias.head()"
   ]
  },
  {
   "cell_type": "markdown",
   "metadata": {},
   "source": [
    "Let's check how many else mixed features are there"
   ]
  },
  {
   "cell_type": "code",
   "execution_count": 48,
   "metadata": {},
   "outputs": [],
   "source": [
    "mixed = list(feat_info.loc[feat_info['type']=='mixed']['attribute'])\n",
    "mixed.remove('PRAEGENDE_JUGENDJAHRE')\n",
    "mixed.remove('CAMEO_INTL_2015')"
   ]
  },
  {
   "cell_type": "code",
   "execution_count": 49,
   "metadata": {},
   "outputs": [],
   "source": [
    "azdias['NEIGHBORHOOD_QUAL'] = azdias['WOHNLAGE'].replace([7,8], np.nan)"
   ]
  },
  {
   "cell_type": "code",
   "execution_count": 50,
   "metadata": {},
   "outputs": [
    {
     "data": {
      "text/plain": [
       "['LP_LEBENSPHASE_FEIN', 'LP_LEBENSPHASE_GROB', 'WOHNLAGE', 'PLZ8_BAUMAX']"
      ]
     },
     "execution_count": 50,
     "metadata": {},
     "output_type": "execute_result"
    }
   ],
   "source": [
    "mixed"
   ]
  },
  {
   "cell_type": "code",
   "execution_count": 51,
   "metadata": {},
   "outputs": [],
   "source": [
    "mixed.remove('WOHNLAGE')"
   ]
  },
  {
   "cell_type": "code",
   "execution_count": 52,
   "metadata": {},
   "outputs": [],
   "source": [
    "azdias = pd.get_dummies(azdias, prefix=mixed, columns=mixed)"
   ]
  },
  {
   "cell_type": "markdown",
   "metadata": {},
   "source": [
    "#### Discussion 1.2.2: Engineer Mixed-Type Features\n",
    "\n",
    "I create a few features to store the information in two mixed feature. In terms of the way the other mixed features encode information, I'll treat them as dummy variables as well"
   ]
  },
  {
   "cell_type": "markdown",
   "metadata": {},
   "source": [
    "#### Step 1.2.3: Complete Feature Selection\n",
    "\n",
    "In order to finish this step up, you need to make sure that your data frame now only has the columns that you want to keep. To summarize, the dataframe should consist of the following:\n",
    "- All numeric, interval, and ordinal type columns from the original dataset.\n",
    "- Binary categorical features (all numerically-encoded).\n",
    "- Engineered features from other multi-level categorical features and mixed features.\n",
    "\n",
    "Make sure that for any new columns that you have engineered, that you've excluded the original columns from the final dataset. Otherwise, their values will interfere with the analysis later on the project. For example, you should not keep \"PRAEGENDE_JUGENDJAHRE\", since its values won't be useful for the algorithm: only the values derived from it in the engineered features you created should be retained. As a reminder, your data should only be from **the subset with few or no missing values**."
   ]
  },
  {
   "cell_type": "code",
   "execution_count": 53,
   "metadata": {},
   "outputs": [
    {
     "name": "stdout",
     "output_type": "stream",
     "text": [
      "<class 'pandas.core.frame.DataFrame'>\n",
      "Int64Index: 780153 entries, 1 to 891220\n",
      "Columns: 490 entries, ANREDE_KZ to PLZ8_BAUMAX_5.0\n",
      "dtypes: float64(11), int64(4), object(1), uint8(474)\n",
      "memory usage: 473.8+ MB\n"
     ]
    }
   ],
   "source": [
    "azdias.info()"
   ]
  },
  {
   "cell_type": "code",
   "execution_count": 54,
   "metadata": {},
   "outputs": [
    {
     "data": {
      "text/plain": [
       "{dtype('uint8'): Index(['ALTERSKATEGORIE_GROB_1.0', 'ALTERSKATEGORIE_GROB_2.0',\n",
       "        'ALTERSKATEGORIE_GROB_3.0', 'ALTERSKATEGORIE_GROB_4.0',\n",
       "        'FINANZ_MINIMALIST_1', 'FINANZ_MINIMALIST_2', 'FINANZ_MINIMALIST_3',\n",
       "        'FINANZ_MINIMALIST_4', 'FINANZ_MINIMALIST_5', 'FINANZ_SPARER_1',\n",
       "        ...\n",
       "        'LP_LEBENSPHASE_GROB_8.0', 'LP_LEBENSPHASE_GROB_9.0',\n",
       "        'LP_LEBENSPHASE_GROB_10.0', 'LP_LEBENSPHASE_GROB_11.0',\n",
       "        'LP_LEBENSPHASE_GROB_12.0', 'PLZ8_BAUMAX_1.0', 'PLZ8_BAUMAX_2.0',\n",
       "        'PLZ8_BAUMAX_3.0', 'PLZ8_BAUMAX_4.0', 'PLZ8_BAUMAX_5.0'],\n",
       "       dtype='object', length=474),\n",
       " dtype('int64'): Index(['ANREDE_KZ', 'GREEN_AVANTGARDE', 'Era', 'movement'], dtype='object'),\n",
       " dtype('float64'): Index(['SOHO_KZ', 'VERS_TYP', 'ANZ_PERSONEN', 'ANZ_TITEL',\n",
       "        'ANZ_HAUSHALTE_AKTIV', 'ANZ_HH_TITEL', 'GEBAEUDETYP',\n",
       "        'MIN_GEBAEUDEJAHR', 'WOHNLAGE', 'KBA13_ANZAHL_PKW',\n",
       "        'NEIGHBORHOOD_QUAL'],\n",
       "       dtype='object'),\n",
       " dtype('O'): Index(['Economics_Situation'], dtype='object')}"
      ]
     },
     "execution_count": 54,
     "metadata": {},
     "output_type": "execute_result"
    }
   ],
   "source": [
    "azdias.columns.to_series().groupby(azdias.dtypes).groups"
   ]
  },
  {
   "cell_type": "code",
   "execution_count": 55,
   "metadata": {},
   "outputs": [
    {
     "data": {
      "text/html": [
       "<div>\n",
       "<style>\n",
       "    .dataframe thead tr:only-child th {\n",
       "        text-align: right;\n",
       "    }\n",
       "\n",
       "    .dataframe thead th {\n",
       "        text-align: left;\n",
       "    }\n",
       "\n",
       "    .dataframe tbody tr th {\n",
       "        vertical-align: top;\n",
       "    }\n",
       "</style>\n",
       "<table border=\"1\" class=\"dataframe\">\n",
       "  <thead>\n",
       "    <tr style=\"text-align: right;\">\n",
       "      <th></th>\n",
       "      <th>ANREDE_KZ</th>\n",
       "      <th>GREEN_AVANTGARDE</th>\n",
       "      <th>SOHO_KZ</th>\n",
       "      <th>VERS_TYP</th>\n",
       "      <th>ANZ_PERSONEN</th>\n",
       "      <th>ANZ_TITEL</th>\n",
       "      <th>ANZ_HAUSHALTE_AKTIV</th>\n",
       "      <th>ANZ_HH_TITEL</th>\n",
       "      <th>GEBAEUDETYP</th>\n",
       "      <th>MIN_GEBAEUDEJAHR</th>\n",
       "      <th>...</th>\n",
       "      <th>LP_LEBENSPHASE_GROB_8.0</th>\n",
       "      <th>LP_LEBENSPHASE_GROB_9.0</th>\n",
       "      <th>LP_LEBENSPHASE_GROB_10.0</th>\n",
       "      <th>LP_LEBENSPHASE_GROB_11.0</th>\n",
       "      <th>LP_LEBENSPHASE_GROB_12.0</th>\n",
       "      <th>PLZ8_BAUMAX_1.0</th>\n",
       "      <th>PLZ8_BAUMAX_2.0</th>\n",
       "      <th>PLZ8_BAUMAX_3.0</th>\n",
       "      <th>PLZ8_BAUMAX_4.0</th>\n",
       "      <th>PLZ8_BAUMAX_5.0</th>\n",
       "    </tr>\n",
       "  </thead>\n",
       "  <tbody>\n",
       "    <tr>\n",
       "      <th>1</th>\n",
       "      <td>2</td>\n",
       "      <td>0</td>\n",
       "      <td>1.0</td>\n",
       "      <td>2.0</td>\n",
       "      <td>2.0</td>\n",
       "      <td>0.0</td>\n",
       "      <td>11.0</td>\n",
       "      <td>0.0</td>\n",
       "      <td>8.0</td>\n",
       "      <td>1992.0</td>\n",
       "      <td>...</td>\n",
       "      <td>0</td>\n",
       "      <td>0</td>\n",
       "      <td>0</td>\n",
       "      <td>0</td>\n",
       "      <td>0</td>\n",
       "      <td>1</td>\n",
       "      <td>0</td>\n",
       "      <td>0</td>\n",
       "      <td>0</td>\n",
       "      <td>0</td>\n",
       "    </tr>\n",
       "    <tr>\n",
       "      <th>2</th>\n",
       "      <td>2</td>\n",
       "      <td>1</td>\n",
       "      <td>0.0</td>\n",
       "      <td>1.0</td>\n",
       "      <td>1.0</td>\n",
       "      <td>0.0</td>\n",
       "      <td>10.0</td>\n",
       "      <td>0.0</td>\n",
       "      <td>1.0</td>\n",
       "      <td>1992.0</td>\n",
       "      <td>...</td>\n",
       "      <td>0</td>\n",
       "      <td>0</td>\n",
       "      <td>0</td>\n",
       "      <td>0</td>\n",
       "      <td>0</td>\n",
       "      <td>1</td>\n",
       "      <td>0</td>\n",
       "      <td>0</td>\n",
       "      <td>0</td>\n",
       "      <td>0</td>\n",
       "    </tr>\n",
       "    <tr>\n",
       "      <th>3</th>\n",
       "      <td>2</td>\n",
       "      <td>0</td>\n",
       "      <td>0.0</td>\n",
       "      <td>1.0</td>\n",
       "      <td>0.0</td>\n",
       "      <td>0.0</td>\n",
       "      <td>1.0</td>\n",
       "      <td>0.0</td>\n",
       "      <td>1.0</td>\n",
       "      <td>1997.0</td>\n",
       "      <td>...</td>\n",
       "      <td>0</td>\n",
       "      <td>0</td>\n",
       "      <td>0</td>\n",
       "      <td>0</td>\n",
       "      <td>0</td>\n",
       "      <td>1</td>\n",
       "      <td>0</td>\n",
       "      <td>0</td>\n",
       "      <td>0</td>\n",
       "      <td>0</td>\n",
       "    </tr>\n",
       "    <tr>\n",
       "      <th>4</th>\n",
       "      <td>1</td>\n",
       "      <td>0</td>\n",
       "      <td>0.0</td>\n",
       "      <td>2.0</td>\n",
       "      <td>4.0</td>\n",
       "      <td>0.0</td>\n",
       "      <td>3.0</td>\n",
       "      <td>0.0</td>\n",
       "      <td>1.0</td>\n",
       "      <td>1992.0</td>\n",
       "      <td>...</td>\n",
       "      <td>0</td>\n",
       "      <td>0</td>\n",
       "      <td>1</td>\n",
       "      <td>0</td>\n",
       "      <td>0</td>\n",
       "      <td>0</td>\n",
       "      <td>1</td>\n",
       "      <td>0</td>\n",
       "      <td>0</td>\n",
       "      <td>0</td>\n",
       "    </tr>\n",
       "    <tr>\n",
       "      <th>5</th>\n",
       "      <td>2</td>\n",
       "      <td>0</td>\n",
       "      <td>0.0</td>\n",
       "      <td>2.0</td>\n",
       "      <td>1.0</td>\n",
       "      <td>0.0</td>\n",
       "      <td>5.0</td>\n",
       "      <td>0.0</td>\n",
       "      <td>1.0</td>\n",
       "      <td>1992.0</td>\n",
       "      <td>...</td>\n",
       "      <td>0</td>\n",
       "      <td>0</td>\n",
       "      <td>0</td>\n",
       "      <td>0</td>\n",
       "      <td>0</td>\n",
       "      <td>1</td>\n",
       "      <td>0</td>\n",
       "      <td>0</td>\n",
       "      <td>0</td>\n",
       "      <td>0</td>\n",
       "    </tr>\n",
       "  </tbody>\n",
       "</table>\n",
       "<p>5 rows × 490 columns</p>\n",
       "</div>"
      ],
      "text/plain": [
       "   ANREDE_KZ  GREEN_AVANTGARDE  SOHO_KZ  VERS_TYP  ANZ_PERSONEN  ANZ_TITEL  \\\n",
       "1          2                 0      1.0       2.0           2.0        0.0   \n",
       "2          2                 1      0.0       1.0           1.0        0.0   \n",
       "3          2                 0      0.0       1.0           0.0        0.0   \n",
       "4          1                 0      0.0       2.0           4.0        0.0   \n",
       "5          2                 0      0.0       2.0           1.0        0.0   \n",
       "\n",
       "   ANZ_HAUSHALTE_AKTIV  ANZ_HH_TITEL  GEBAEUDETYP  MIN_GEBAEUDEJAHR  \\\n",
       "1                 11.0           0.0          8.0            1992.0   \n",
       "2                 10.0           0.0          1.0            1992.0   \n",
       "3                  1.0           0.0          1.0            1997.0   \n",
       "4                  3.0           0.0          1.0            1992.0   \n",
       "5                  5.0           0.0          1.0            1992.0   \n",
       "\n",
       "        ...         LP_LEBENSPHASE_GROB_8.0  LP_LEBENSPHASE_GROB_9.0  \\\n",
       "1       ...                               0                        0   \n",
       "2       ...                               0                        0   \n",
       "3       ...                               0                        0   \n",
       "4       ...                               0                        0   \n",
       "5       ...                               0                        0   \n",
       "\n",
       "   LP_LEBENSPHASE_GROB_10.0  LP_LEBENSPHASE_GROB_11.0  \\\n",
       "1                         0                         0   \n",
       "2                         0                         0   \n",
       "3                         0                         0   \n",
       "4                         1                         0   \n",
       "5                         0                         0   \n",
       "\n",
       "   LP_LEBENSPHASE_GROB_12.0  PLZ8_BAUMAX_1.0  PLZ8_BAUMAX_2.0  \\\n",
       "1                         0                1                0   \n",
       "2                         0                1                0   \n",
       "3                         0                1                0   \n",
       "4                         0                0                1   \n",
       "5                         0                1                0   \n",
       "\n",
       "   PLZ8_BAUMAX_3.0  PLZ8_BAUMAX_4.0  PLZ8_BAUMAX_5.0  \n",
       "1                0                0                0  \n",
       "2                0                0                0  \n",
       "3                0                0                0  \n",
       "4                0                0                0  \n",
       "5                0                0                0  \n",
       "\n",
       "[5 rows x 490 columns]"
      ]
     },
     "execution_count": 55,
     "metadata": {},
     "output_type": "execute_result"
    }
   ],
   "source": [
    "azdias.head()"
   ]
  },
  {
   "cell_type": "code",
   "execution_count": 56,
   "metadata": {},
   "outputs": [],
   "source": [
    "# If there are other re-engineering tasks you need to perform, make sure you\n",
    "# take care of them here. (Dealing with missing data will come in step 2.1.)\n",
    "\n",
    "azdias['Economics_Situation'] = azdias.Economics_Situation.fillna(0)\n",
    "azdias['Economics_Situation'] = azdias.Economics_Situation.astype('int')"
   ]
  },
  {
   "cell_type": "code",
   "execution_count": 57,
   "metadata": {},
   "outputs": [],
   "source": [
    "# Do whatever you need to in order to ensure that the dataframe only contains\n",
    "# the columns that should be passed to the algorithm functions.\n",
    "\n"
   ]
  },
  {
   "cell_type": "markdown",
   "metadata": {},
   "source": [
    "### Step 1.3: Create a Cleaning Function\n",
    "\n",
    "Even though you've finished cleaning up the general population demographics data, it's important to look ahead to the future and realize that you'll need to perform the same cleaning steps on the customer demographics data. In this substep, complete the function below to execute the main feature selection, encoding, and re-engineering steps you performed above. Then, when it comes to looking at the customer data in Step 3, you can just run this function on that DataFrame to get the trimmed dataset in a single step."
   ]
  },
  {
   "cell_type": "code",
   "execution_count": 58,
   "metadata": {},
   "outputs": [],
   "source": [
    "def clean_data(df):\n",
    "    \"\"\"\n",
    "    Perform feature trimming, re-encoding, and engineering for demographics\n",
    "    data\n",
    "    \n",
    "    INPUT: Demographics DataFrame\n",
    "    OUTPUT: Trimmed and cleaned demographics DataFrame\n",
    "    \"\"\"\n",
    "    feat_info = pd.read_csv('AZDIAS_Feature_Summary.csv',delimiter=';')\n",
    "    \n",
    "    feat_info['missing_or_unknown'] = feat_info['missing_or_unknown'].apply(lambda x : x.replace('XX', \"'XX'\"))\n",
    "    for i in range(feat_info.shape[0]):\n",
    "        if 'XX' in feat_info['missing_or_unknown'][i]:\n",
    "            pass\n",
    "        else:\n",
    "            feat_info['missing_or_unknown'][i] = feat_info['missing_or_unknown'][i].replace('X', \"'X'\")\n",
    "    \n",
    "    for i in range(feat_info.shape[0]):\n",
    "        missing = {}\n",
    "        lst = ast.literal_eval(feat_info['missing_or_unknown'][i])\n",
    "        for x in lst:\n",
    "            missing[x] = np.nan\n",
    "            df[feat_info['attribute'][i]].replace(missing, inplace=True)\n",
    "    \n",
    "    print(df.shape)\n",
    "    # To align with azdias\n",
    "    df.drop(['AGER_TYP','GEBURTSJAHR','TITEL_KZ','ALTER_HH','KK_KUNDENTYP','KBA05_BAUMAX'],axis=1, inplace=True)\n",
    "    print(df.shape)\n",
    "    # remove selected columns and rows, ...\n",
    "    \n",
    "    # select, re-encode, and engineer column values.\n",
    "    df = pd.get_dummies(df, prefix=ordinal, columns=ordinal)\n",
    "    print(df.shape)\n",
    "    df = pd.get_dummies(df, prefix=categorical, columns=categorical)\n",
    "    print(df.shape)\n",
    "    \n",
    "    df['Era'] = 0\n",
    "\n",
    "\n",
    "    df.loc[df.PRAEGENDE_JUGENDJAHRE == 1,'Era']=1\n",
    "    df.loc[df.PRAEGENDE_JUGENDJAHRE == 2,'Era']=1\n",
    "    df.loc[df.PRAEGENDE_JUGENDJAHRE == 3,'Era']=2\n",
    "    df.loc[df.PRAEGENDE_JUGENDJAHRE == 4,'Era']=2\n",
    "    df.loc[df.PRAEGENDE_JUGENDJAHRE == 5,'Era']=3\n",
    "    df.loc[df.PRAEGENDE_JUGENDJAHRE == 6,'Era']=3\n",
    "    df.loc[df.PRAEGENDE_JUGENDJAHRE == 7,'Era']=3\n",
    "    df.loc[df.PRAEGENDE_JUGENDJAHRE == 8,'Era']=4\n",
    "    df.loc[df.PRAEGENDE_JUGENDJAHRE == 9,'Era']=4\n",
    "    df.loc[df.PRAEGENDE_JUGENDJAHRE == 10,'Era']=5\n",
    "    df.loc[df.PRAEGENDE_JUGENDJAHRE == 11,'Era']=5\n",
    "    df.loc[df.PRAEGENDE_JUGENDJAHRE == 12,'Era']=5\n",
    "    df.loc[df.PRAEGENDE_JUGENDJAHRE == 13,'Era']=5\n",
    "    df.loc[df.PRAEGENDE_JUGENDJAHRE == 14,'Era']=6\n",
    "    df.loc[df.PRAEGENDE_JUGENDJAHRE == 15,'Era']=6\n",
    "    \n",
    "    df['movement'] = 0\n",
    "\n",
    "    df.loc[df.PRAEGENDE_JUGENDJAHRE == 2,'movement']=1\n",
    "    df.loc[df.PRAEGENDE_JUGENDJAHRE == 4,'movement']=1\n",
    "    df.loc[df.PRAEGENDE_JUGENDJAHRE == 6,'movement']=1\n",
    "    df.loc[df.PRAEGENDE_JUGENDJAHRE == 7,'movement']=1\n",
    "    df.loc[df.PRAEGENDE_JUGENDJAHRE == 9,'movement']=1\n",
    "    df.loc[df.PRAEGENDE_JUGENDJAHRE == 11,'movement']=1\n",
    "    df.loc[df.PRAEGENDE_JUGENDJAHRE == 13,'movement']=1\n",
    "    df.loc[df.PRAEGENDE_JUGENDJAHRE == 15,'movement']=1\n",
    "    \n",
    "    df['region'] = 0\n",
    "\n",
    "    df.loc[df.PRAEGENDE_JUGENDJAHRE == 1,'region']='E+W'\n",
    "    df.loc[df.PRAEGENDE_JUGENDJAHRE == 2,'region']='E+W'\n",
    "    df.loc[df.PRAEGENDE_JUGENDJAHRE == 3,'region']='E+W'\n",
    "    df.loc[df.PRAEGENDE_JUGENDJAHRE == 4,'region']='E+W'\n",
    "    df.loc[df.PRAEGENDE_JUGENDJAHRE == 5,'region']='E+W'\n",
    "    df.loc[df.PRAEGENDE_JUGENDJAHRE == 6,'region']='W'\n",
    "    df.loc[df.PRAEGENDE_JUGENDJAHRE == 7,'region']='E'\n",
    "    df.loc[df.PRAEGENDE_JUGENDJAHRE == 8,'region']='E+W'\n",
    "    df.loc[df.PRAEGENDE_JUGENDJAHRE == 9,'region']='E+W'\n",
    "    df.loc[df.PRAEGENDE_JUGENDJAHRE == 10,'region']='W'\n",
    "    df.loc[df.PRAEGENDE_JUGENDJAHRE == 11,'region']='W'\n",
    "    df.loc[df.PRAEGENDE_JUGENDJAHRE == 12,'region']='E'\n",
    "    df.loc[df.PRAEGENDE_JUGENDJAHRE == 13,'region']='E'\n",
    "    df.loc[df.PRAEGENDE_JUGENDJAHRE == 14,'region']='E+W'\n",
    "    df.loc[df.PRAEGENDE_JUGENDJAHRE == 15,'region']='E+W'\n",
    "    \n",
    "    df = pd.get_dummies(df, prefix=['region'], columns=['region'])\n",
    "    \n",
    "    df['Economics_Situation'] = df['CAMEO_INTL_2015'].str[0]\n",
    "    df['Relationship_Situation'] = df['CAMEO_INTL_2015'].str[1]\n",
    "    \n",
    "    df = pd.get_dummies(df, prefix=['Relationship_Situation'], columns=['Relationship_Situation'])\n",
    "    \n",
    "    df.drop(['PRAEGENDE_JUGENDJAHRE','CAMEO_INTL_2015'],axis=1, inplace=True)\n",
    "    \n",
    "    df['NEIGHBORHOOD_QUAL'] = df['WOHNLAGE'].replace([7,8], np.nan)\n",
    "    \n",
    "    print(df.shape)\n",
    "\n",
    "    df = pd.get_dummies(df, prefix=mixed, columns=mixed)\n",
    "\n",
    "    df['Economics_Situation'] = df.Economics_Situation.fillna(0)\n",
    "    df['Economics_Situation'] = df.Economics_Situation.astype('int')\n",
    "\n",
    "    # Return the cleaned dataframe.\n",
    "    return df"
   ]
  },
  {
   "cell_type": "markdown",
   "metadata": {},
   "source": [
    "## Step 2: Feature Transformation\n",
    "\n",
    "### Step 2.1: Apply Feature Scaling\n",
    "\n",
    "Before we apply dimensionality reduction techniques to the data, we need to perform feature scaling so that the principal component vectors are not influenced by the natural differences in scale for features. Starting from this part of the project, you'll want to keep an eye on the [API reference page for sklearn](http://scikit-learn.org/stable/modules/classes.html) to help you navigate to all of the classes and functions that you'll need. In this substep, you'll need to check the following:\n",
    "\n",
    "- sklearn requires that data not have missing values in order for its estimators to work properly. So, before applying the scaler to your data, make sure that you've cleaned the DataFrame of the remaining missing values. This can be as simple as just removing all data points with missing data, or applying an [Imputer](http://scikit-learn.org/stable/modules/generated/sklearn.preprocessing.Imputer.html) to replace all missing values. You might also try a more complicated procedure where you temporarily remove missing values in order to compute the scaling parameters before re-introducing those missing values and applying imputation. Think about how much missing data you have and what possible effects each approach might have on your analysis, and justify your decision in the discussion section below.\n",
    "- For the actual scaling function, a [StandardScaler](http://scikit-learn.org/stable/modules/generated/sklearn.preprocessing.StandardScaler.html) instance is suggested, scaling each feature to mean 0 and standard deviation 1.\n",
    "- For these classes, you can make use of the `.fit_transform()` method to both fit a procedure to the data as well as apply the transformation to the data at the same time. Don't forget to keep the fit sklearn objects handy, since you'll be applying them to the customer demographics data towards the end of the project."
   ]
  },
  {
   "cell_type": "code",
   "execution_count": 59,
   "metadata": {},
   "outputs": [],
   "source": [
    "# If you've not yet cleaned the dataset of all NaN values, then investigate and\n",
    "# do that now.\n",
    "imp = Imputer(missing_values=np.nan , strategy='mean', axis=0)\n",
    "azdias_clean = imp.fit_transform(azdias)\n",
    "azdias_clean = pd.DataFrame(imp.fit_transform(azdias))\n",
    "azdias_clean.columns = azdias.columns\n",
    "azdias_clean.index = azdias.index"
   ]
  },
  {
   "cell_type": "code",
   "execution_count": 60,
   "metadata": {},
   "outputs": [
    {
     "data": {
      "text/plain": [
       "(780153, 490)"
      ]
     },
     "execution_count": 60,
     "metadata": {},
     "output_type": "execute_result"
    }
   ],
   "source": [
    "azdias_clean.shape"
   ]
  },
  {
   "cell_type": "code",
   "execution_count": 61,
   "metadata": {},
   "outputs": [],
   "source": [
    "# Apply feature scaling to the general population demographics data.\n",
    "scaler = StandardScaler()\n",
    "azdias_scaled = scaler.fit_transform(azdias_clean)\n",
    "azdias_scaled = pd.DataFrame(azdias_scaled)\n",
    "azdias_scaled.columns = azdias.columns\n",
    "azdias_scaled.index = azdias.index"
   ]
  },
  {
   "cell_type": "markdown",
   "metadata": {},
   "source": [
    "### Discussion 2.1: Apply Feature Scaling\n",
    "\n",
    "After I impute the missing values(NaN) in my dataset, I use StandardScaler to scale each feature. And now I'm ready for dimensionality reduction and other unspervised learning"
   ]
  },
  {
   "cell_type": "markdown",
   "metadata": {},
   "source": [
    "### Step 2.2: Perform Dimensionality Reduction\n",
    "\n",
    "On your scaled data, you are now ready to apply dimensionality reduction techniques.\n",
    "\n",
    "- Use sklearn's [PCA](http://scikit-learn.org/stable/modules/generated/sklearn.decomposition.PCA.html) class to apply principal component analysis on the data, thus finding the vectors of maximal variance in the data. To start, you should not set any parameters (so all components are computed) or set a number of components that is at least half the number of features (so there's enough features to see the general trend in variability).\n",
    "- Check out the ratio of variance explained by each principal component as well as the cumulative variance explained. Try plotting the cumulative or sequential values using matplotlib's [`plot()`](https://matplotlib.org/api/_as_gen/matplotlib.pyplot.plot.html) function. Based on what you find, select a value for the number of transformed features you'll retain for the clustering part of the project.\n",
    "- Once you've made a choice for the number of components to keep, make sure you re-fit a PCA instance to perform the decided-on transformation."
   ]
  },
  {
   "cell_type": "code",
   "execution_count": 62,
   "metadata": {},
   "outputs": [
    {
     "data": {
      "text/plain": [
       "(780153, 490)"
      ]
     },
     "execution_count": 62,
     "metadata": {},
     "output_type": "execute_result"
    }
   ],
   "source": [
    "azdias_scaled.shape"
   ]
  },
  {
   "cell_type": "code",
   "execution_count": 63,
   "metadata": {},
   "outputs": [],
   "source": [
    "# Apply PCA to the data.\n",
    "pca = PCA()\n",
    "azdias_transformed = pca.fit_transform(azdias_scaled)"
   ]
  },
  {
   "cell_type": "code",
   "execution_count": 64,
   "metadata": {},
   "outputs": [],
   "source": [
    "# Investigate the variance accounted for by each principal component.\n",
    "scores = pca.explained_variance_"
   ]
  },
  {
   "cell_type": "code",
   "execution_count": 65,
   "metadata": {},
   "outputs": [
    {
     "data": {
      "text/plain": [
       "Text(0.5,1,'Variance Explained')"
      ]
     },
     "execution_count": 65,
     "metadata": {},
     "output_type": "execute_result"
    },
    {
     "data": {
      "image/png": "[encoded data removed]",
      "text/plain": [
       "<matplotlib.figure.Figure at 0x7f76682ac7b8>"
      ]
     },
     "metadata": {},
     "output_type": "display_data"
    }
   ],
   "source": [
    "plt.plot(scores)\n",
    "plt.axvline(x=20,c='b',linestyle='--')\n",
    "plt.title('Variance Explained')"
   ]
  },
  {
   "cell_type": "code",
   "execution_count": 66,
   "metadata": {},
   "outputs": [],
   "source": [
    "# Re-apply PCA to the data while selecting for number of components to retain.\n",
    "pca = PCA(n_components=20)\n",
    "azdias_transformed = pca.fit_transform(azdias_scaled)\n"
   ]
  },
  {
   "cell_type": "code",
   "execution_count": 67,
   "metadata": {},
   "outputs": [
    {
     "data": {
      "text/plain": [
       "Text(0.5,1,'Explained Variance Per Principal Component')"
      ]
     },
     "execution_count": 67,
     "metadata": {},
     "output_type": "execute_result"
    },
    {
     "data": {
      "image/png": "[encoded data removed]",
      "text/plain": [
       "<matplotlib.figure.Figure at 0x7f76682c86a0>"
      ]
     },
     "metadata": {},
     "output_type": "display_data"
    }
   ],
   "source": [
    "num_components=len(pca.explained_variance_ratio_)\n",
    "ind = np.arange(num_components)\n",
    "vals = pca.explained_variance_ratio_\n",
    " \n",
    "plt.figure(figsize=(10, 6))\n",
    "ax = plt.subplot(111)\n",
    "cumvals = np.cumsum(vals)\n",
    "ax.bar(ind, vals)\n",
    "ax.plot(ind, cumvals)\n",
    "for i in range(num_components):\n",
    "    ax.annotate(r\"%s%%\" % ((str(vals[i]*100)[:4])), (ind[i], vals[i]), va=\"bottom\", ha=\"center\", fontsize=8)\n",
    "\n",
    "ax.xaxis.set_tick_params(width=0)\n",
    "ax.yaxis.set_tick_params(width=2, length=12)\n",
    " \n",
    "ax.set_xlabel(\"Principal Component\")\n",
    "ax.set_ylabel(\"Variance Explained (%)\")\n",
    "plt.title('Explained Variance Per Principal Component')"
   ]
  },
  {
   "cell_type": "markdown",
   "metadata": {},
   "source": [
    "### Discussion 2.2: Perform Dimensionality Reduction\n",
    "\n",
    "I didn't set the parameter for the n_components in the begining and check the variance explained. And I see the elbow point is around 20 and draw a vertical line there to identify it. Thus, I run the PCA again to reduce the dimensions to 20. And the result can cover about almost 30% of the original dataset."
   ]
  },
  {
   "cell_type": "markdown",
   "metadata": {},
   "source": [
    "### Step 2.3: Interpret Principal Components\n",
    "\n",
    "Now that we have our transformed principal components, it's a nice idea to check out the weight of each variable on the first few components to see if they can be interpreted in some fashion.\n",
    "\n",
    "As a reminder, each principal component is a unit vector that points in the direction of highest variance (after accounting for the variance captured by earlier principal components). The further a weight is from zero, the more the principal component is in the direction of the corresponding feature. If two features have large weights of the same sign (both positive or both negative), then increases in one tend expect to be associated with increases in the other. To contrast, features with different signs can be expected to show a negative correlation: increases in one variable should result in a decrease in the other.\n",
    "\n",
    "- To investigate the features, you should map each weight to their corresponding feature name, then sort the features according to weight. The most interesting features for each principal component, then, will be those at the beginning and end of the sorted list. Use the data dictionary document to help you understand these most prominent features, their relationships, and what a positive or negative value on the principal component might indicate.\n",
    "- You should investigate and interpret feature associations from the first three principal components in this substep. To help facilitate this, you should write a function that you can call at any time to print the sorted list of feature weights, for the *i*-th principal component. This might come in handy in the next step of the project, when you interpret the tendencies of the discovered clusters."
   ]
  },
  {
   "cell_type": "code",
   "execution_count": 68,
   "metadata": {},
   "outputs": [],
   "source": [
    "# Map weights for the first principal component to corresponding feature names\n",
    "# and then print the linked values, sorted by weight.\n",
    "# HINT: Try defining a function here or in a new cell that you can reuse in the\n",
    "# other cells.\n",
    "\n",
    "def interpret_features(df, PCA, no):\n",
    "    '''\n",
    "    To show the features explained by the components ith\n",
    "    '''\n",
    "    dimensions = ['Component {}'.format(i) for i in range(1,len(pca.components_)+1)]\n",
    "    \n",
    "    components = pd.DataFrame(np.round(pca.components_, 3), columns = df.keys())\n",
    "    components.index = dimensions\n",
    "    \n",
    "    ratios = pca.explained_variance_ratio_.reshape(len(pca.components_), 1)\n",
    "    variance_ratios = pd.DataFrame(np.round(ratios, 4), columns = ['Explained Variance'])\n",
    "    variance_ratios.index = dimensions\n",
    "    \n",
    "    result = pd.concat([variance_ratios, components], axis = 1)\n",
    "    \n",
    "    return result.iloc[no-1].sort_values(ascending=False)[:3], result.iloc[no-1].sort_values()[:3]"
   ]
  },
  {
   "cell_type": "code",
   "execution_count": 69,
   "metadata": {},
   "outputs": [
    {
     "data": {
      "text/plain": [
       "(LP_STATUS_GROB_1.0     0.159\n",
       " Economics_Situation    0.145\n",
       " KBA05_ANTG1_0.0        0.141\n",
       " Name: Component 1, dtype: float64, PLZ8_BAUMAX_1.0       -0.146\n",
       " PLZ8_ANTG4_0.0        -0.129\n",
       " FINANZ_MINIMALIST_5   -0.122\n",
       " Name: Component 1, dtype: float64)"
      ]
     },
     "execution_count": 69,
     "metadata": {},
     "output_type": "execute_result"
    }
   ],
   "source": [
    "# Map weights for the first principal component to corresponding feature names\n",
    "# and then print the linked values, sorted by weight.\n",
    "\n",
    "interpret_features(azdias, pca, 1)"
   ]
  },
  {
   "cell_type": "markdown",
   "metadata": {},
   "source": [
    "LP_STATUS_GROB_1.0 is social status and Economics_Situation is actually similar. And KBA05_ANTG1 is the house share, also related to social status. In the other side, PLZ8_BAUMAX_1 is the most common building type in the region, indicating the social status in the neighborhood; PLZ8_ANTG4 is the number of 10+ family houses in the region; FINANZ_MINIMALIST is financial status."
   ]
  },
  {
   "cell_type": "code",
   "execution_count": 70,
   "metadata": {},
   "outputs": [
    {
     "data": {
      "text/plain": [
       "(ALTERSKATEGORIE_GROB_4.0    0.154\n",
       " FINANZ_SPARER_1             0.153\n",
       " FINANZ_VORSORGER_5          0.151\n",
       " Name: Component 2, dtype: float64, Era             -0.174\n",
       " SEMIO_TRADV_5   -0.123\n",
       " SEMIO_FAM_7     -0.123\n",
       " Name: Component 2, dtype: float64)"
      ]
     },
     "execution_count": 70,
     "metadata": {},
     "output_type": "execute_result"
    }
   ],
   "source": [
    "# Map weights for the second principal component to corresponding feature names\n",
    "# and then print the linked values, sorted by weight.\n",
    "\n",
    "interpret_features(azdias, pca, 2)"
   ]
  },
  {
   "cell_type": "markdown",
   "metadata": {},
   "source": [
    "ALTERSKATEGORIE_GROB_4 is the estimated age; ZABEOTYP is the energy consumption typology; FINANZ_SPARER is about financial status. In the other side, Era is also about ages; SEMIO_KULT and SEMIO_FAM are about personality. And this also says that these variables vary together, indicating another trends in the dataset."
   ]
  },
  {
   "cell_type": "code",
   "execution_count": 71,
   "metadata": {},
   "outputs": [
    {
     "data": {
      "text/plain": [
       "(SEMIO_KAEM_3     0.172\n",
       " SEMIO_ERL_4      0.155\n",
       " SEMIO_TRADV_4    0.149\n",
       " Name: Component 3, dtype: float64, ANREDE_KZ      -0.280\n",
       " SEMIO_VERT_2   -0.163\n",
       " SEMIO_ERL_6    -0.147\n",
       " Name: Component 3, dtype: float64)"
      ]
     },
     "execution_count": 71,
     "metadata": {},
     "output_type": "execute_result"
    }
   ],
   "source": [
    "# Map weights for the third principal component to corresponding feature names\n",
    "# and then print the linked values, sorted by weight.\n",
    "\n",
    "interpret_features(azdias, pca, 3)"
   ]
  },
  {
   "cell_type": "markdown",
   "metadata": {},
   "source": [
    "Except ANREDE_KZ is gender, the others are all about personality."
   ]
  },
  {
   "cell_type": "markdown",
   "metadata": {},
   "source": [
    "### Discussion 2.3: Interpret Principal Components\n",
    "\n",
    "The first component is about social and financial status. The second one is kind of about daily life. The third one is obviouly about the person."
   ]
  },
  {
   "cell_type": "markdown",
   "metadata": {},
   "source": [
    "## Step 3: Clustering\n",
    "\n",
    "### Step 3.1: Apply Clustering to General Population\n",
    "\n",
    "You've assessed and cleaned the demographics data, then scaled and transformed them. Now, it's time to see how the data clusters in the principal components space. In this substep, you will apply k-means clustering to the dataset and use the average within-cluster distances from each point to their assigned cluster's centroid to decide on a number of clusters to keep.\n",
    "\n",
    "- Use sklearn's [KMeans](http://scikit-learn.org/stable/modules/generated/sklearn.cluster.KMeans.html#sklearn.cluster.KMeans) class to perform k-means clustering on the PCA-transformed data.\n",
    "- Then, compute the average difference from each point to its assigned cluster's center. **Hint**: The KMeans object's `.score()` method might be useful here, but note that in sklearn, scores tend to be defined so that larger is better. Try applying it to a small, toy dataset, or use an internet search to help your understanding.\n",
    "- Perform the above two steps for a number of different cluster counts. You can then see how the average distance decreases with an increasing number of clusters. However, each additional cluster provides a smaller net benefit. Use this fact to select a final number of clusters in which to group the data. **Warning**: because of the large size of the dataset, it can take a long time for the algorithm to resolve. The more clusters to fit, the longer the algorithm will take. You should test for cluster counts through at least 10 clusters to get the full picture, but you shouldn't need to test for a number of clusters above about 30.\n",
    "- Once you've selected a final number of clusters to use, re-fit a KMeans instance to perform the clustering operation. Make sure that you also obtain the cluster assignments for the general demographics data, since you'll be using them in the final Step 3.3."
   ]
  },
  {
   "cell_type": "code",
   "execution_count": 72,
   "metadata": {},
   "outputs": [
    {
     "data": {
      "image/png": "[encoded data removed]",
      "text/plain": [
       "<matplotlib.figure.Figure at 0x7f76859c8208>"
      ]
     },
     "metadata": {},
     "output_type": "display_data"
    }
   ],
   "source": [
    "# Over a number of different cluster counts...\n",
    "# dist function refer to https://stackoverflow.com/questions/40828929/sklearn-mean-distance-from-centroid-of-each-cluster\n",
    "def k_mean_distance(data, cantroid_matrix, i_centroid, cluster_labels):\n",
    "    # Calculate Euclidean distance for each data point assigned to centroid\n",
    "    distances = [np.linalg.norm(x-cantroid_matrix) for x in data[cluster_labels == i_centroid]]\n",
    "    # return the mean value\n",
    "    return np.mean(distances)\n",
    "\n",
    "def get_KMeans_scores(data, center):\n",
    "    \n",
    "    kmeans = KMeans(center)\n",
    "    model = kmeans.fit(data)\n",
    "    clusters = kmeans.predict(data)\n",
    "    centroids = kmeans.cluster_centers_\n",
    "    \n",
    "    score = np.abs(model.score(data))\n",
    "    c_mean_distances = []\n",
    "    \n",
    "    for i, cent_features in enumerate(centroids):\n",
    "            mean_distance = k_mean_distance(data, cent_features, i, clusters)\n",
    "            c_mean_distances.append(mean_distance)\n",
    "            \n",
    "    \n",
    "    return score,np.mean(c_mean_distances)\n",
    "\n",
    "scores = []\n",
    "mean_distances = []\n",
    "centers = list(range(1,21))\n",
    "\n",
    "for center in centers:\n",
    "    s, d = get_KMeans_scores(azdias_transformed,center)\n",
    "    scores.append(s)\n",
    "    mean_distances.append(d)\n",
    "\n",
    "#Your plot should look similar to the below\n",
    "plt.plot(centers, scores, linestyle='--', marker='o', color='b');\n",
    "plt.xlabel('K');\n",
    "plt.ylabel('SSE');\n",
    "plt.title('SSE vs. K');"
   ]
  },
  {
   "cell_type": "code",
   "execution_count": 73,
   "metadata": {},
   "outputs": [
    {
     "data": {
      "image/png": "[encoded data removed]",
      "text/plain": [
       "<matplotlib.figure.Figure at 0x7f7668293940>"
      ]
     },
     "metadata": {},
     "output_type": "display_data"
    }
   ],
   "source": [
    "#Your plot should look similar to the below\n",
    "plt.plot(centers, mean_distances, linestyle='--', marker='o', color='b');\n",
    "plt.xlabel('K');\n",
    "plt.ylabel('distance');\n",
    "plt.title('distance vs. K');"
   ]
  },
  {
   "cell_type": "code",
   "execution_count": 84,
   "metadata": {},
   "outputs": [],
   "source": [
    "# Re-fit the k-means model with the selected number of clusters and obtain\n",
    "# cluster predictions for the general population demographics data.\n",
    "\n",
    "kmeans = KMeans(10)\n",
    "clusters = kmeans.fit_predict(azdias_transformed)"
   ]
  },
  {
   "cell_type": "markdown",
   "metadata": {},
   "source": [
    "### Discussion 3.1: Apply Clustering to General Population\n",
    "\n",
    "The reducing of average distance slow down after cluster 10, while the score reduce stably from cluster 1 to 20. In my opinion, clusters 10 is the elbow points in terms of average distance. And in terms of score, cluster 10 performs not bad. Thus, I choose 10 clusters as final decision."
   ]
  },
  {
   "cell_type": "markdown",
   "metadata": {},
   "source": [
    "### Step 3.2: Apply All Steps to the Customer Data\n",
    "\n",
    "Now that you have clusters and cluster centers for the general population, it's time to see how the customer data maps on to those clusters. Take care to not confuse this for re-fitting all of the models to the customer data. Instead, you're going to use the fits from the general population to clean, transform, and cluster the customer data. In the last step of the project, you will interpret how the general population fits apply to the customer data.\n",
    "\n",
    "- Don't forget when loading in the customers data, that it is semicolon (`;`) delimited.\n",
    "- Apply the same feature wrangling, selection, and engineering steps to the customer demographics using the `clean_data()` function you created earlier. (You can assume that the customer demographics data has similar meaning behind missing data patterns as the general demographics data.)\n",
    "- Use the sklearn objects from the general demographics data, and apply their transformations to the customers data. That is, you should not be using a `.fit()` or `.fit_transform()` method to re-fit the old objects, nor should you be creating new sklearn objects! Carry the data through the feature scaling, PCA, and clustering steps, obtaining cluster assignments for all of the data in the customer demographics data."
   ]
  },
  {
   "cell_type": "code",
   "execution_count": 85,
   "metadata": {},
   "outputs": [],
   "source": [
    "# Load in the customer demographics data.\n",
    "customers = pd.read_csv('Udacity_CUSTOMERS_Subset.csv',delimiter=';')"
   ]
  },
  {
   "cell_type": "code",
   "execution_count": 86,
   "metadata": {},
   "outputs": [
    {
     "name": "stdout",
     "output_type": "stream",
     "text": [
      "(191652, 85)\n",
      "(191652, 79)\n",
      "(191652, 315)\n",
      "(191652, 425)\n",
      "(191652, 436)\n"
     ]
    }
   ],
   "source": [
    "# Apply preprocessing, feature transformation, and clustering from the general\n",
    "# demographics onto the customer data, obtaining cluster predictions for the\n",
    "# customer demographics data.\n",
    "customers_cleaned = clean_data(customers)\n",
    "\n",
    "customers_clean = imp.fit_transform(customers_cleaned)\n",
    "customers_clean = pd.DataFrame(imp.fit_transform(customers_cleaned))\n",
    "customers_clean.columns = customers_cleaned.columns\n",
    "customers_clean.index = customers_cleaned.index\n",
    "\n",
    "customers_scaled = scaler.transform(customers_clean)\n",
    "customers_scaled = pd.DataFrame(customers_scaled)\n",
    "customers_scaled.columns = customers_clean.columns\n",
    "customers_scaled.index = customers_clean.index\n",
    "\n",
    "customers_transformed = pca.transform(customers_scaled)\n",
    "\n",
    "customers_clusters = kmeans.predict(customers_transformed)"
   ]
  },
  {
   "cell_type": "markdown",
   "metadata": {},
   "source": [
    "### Step 3.3: Compare Customer Data to Demographics Data\n",
    "\n",
    "At this point, you have clustered data based on demographics of the general population of Germany, and seen how the customer data for a mail-order sales company maps onto those demographic clusters. In this final substep, you will compare the two cluster distributions to see where the strongest customer base for the company is.\n",
    "\n",
    "Consider the proportion of persons in each cluster for the general population, and the proportions for the customers. If we think the company's customer base to be universal, then the cluster assignment proportions should be fairly similar between the two. If there are only particular segments of the population that are interested in the company's products, then we should see a mismatch from one to the other. If there is a higher proportion of persons in a cluster for the customer data compared to the general population (e.g. 5% of persons are assigned to a cluster for the general population, but 15% of the customer data is closest to that cluster's centroid) then that suggests the people in that cluster to be a target audience for the company. On the other hand, the proportion of the data in a cluster being larger in the general population than the customer data (e.g. only 2% of customers closest to a population centroid that captures 6% of the data) suggests that group of persons to be outside of the target demographics.\n",
    "\n",
    "Take a look at the following points in this step:\n",
    "\n",
    "- Compute the proportion of data points in each cluster for the general population and the customer data. Visualizations will be useful here: both for the individual dataset proportions, but also to visualize the ratios in cluster representation between groups. Seaborn's [`countplot()`](https://seaborn.pydata.org/generated/seaborn.countplot.html) or [`barplot()`](https://seaborn.pydata.org/generated/seaborn.barplot.html) function could be handy.\n",
    "  - Recall the analysis you performed in step 1.1.3 of the project, where you separated out certain data points from the dataset if they had more than a specified threshold of missing values. If you found that this group was qualitatively different from the main bulk of the data, you should treat this as an additional data cluster in this analysis. Make sure that you account for the number of data points in this subset, for both the general population and customer datasets, when making your computations!\n",
    "- Which cluster or clusters are overrepresented in the customer dataset compared to the general population? Select at least one such cluster and infer what kind of people might be represented by that cluster. Use the principal component interpretations from step 2.3 or look at additional components to help you make this inference. Alternatively, you can use the `.inverse_transform()` method of the PCA and StandardScaler objects to transform centroids back to the original data space and interpret the retrieved values directly.\n",
    "- Perform a similar investigation for the underrepresented clusters. Which cluster or clusters are underrepresented in the customer dataset compared to the general population, and what kinds of people are typified by these clusters?"
   ]
  },
  {
   "cell_type": "code",
   "execution_count": 87,
   "metadata": {},
   "outputs": [
    {
     "name": "stderr",
     "output_type": "stream",
     "text": [
      "/opt/conda/lib/python3.6/site-packages/matplotlib/cbook/deprecation.py:106: MatplotlibDeprecationWarning: Adding an axes using the same arguments as a previous axes currently reuses the earlier instance.  In a future version, a new instance will always be created and returned.  Meanwhile, this warning can be suppressed, and the future behavior ensured, by passing a unique label to each axes instance.\n",
      "  warnings.warn(message, mplDeprecation, stacklevel=1)\n"
     ]
    },
    {
     "data": {
      "text/plain": [
       "Text(0.5,1,'Distribution of clusters in demographic data')"
      ]
     },
     "execution_count": 87,
     "metadata": {},
     "output_type": "execute_result"
    },
    {
     "data": {
      "image/png": "[encoded data removed]",
      "text/plain": [
       "<matplotlib.figure.Figure at 0x7f7685a9c2e8>"
      ]
     },
     "metadata": {},
     "output_type": "display_data"
    }
   ],
   "source": [
    "# Compare the proportion of data in each cluster for the customer data to the\n",
    "# proportion of data in each cluster for the general population.\n",
    "\n",
    "plt.subplot(221)\n",
    "plt.subplot(2, 2, 1)\n",
    "ax1 = sns.countplot(customers_clusters)\n",
    "plt.title('Distribution of clusters in customer data')\n",
    "\n",
    "plt.subplot(2, 2, 2)\n",
    "ax2 = sns.countplot(clusters)\n",
    "plt.title('Distribution of clusters in demographic data')"
   ]
  },
  {
   "cell_type": "markdown",
   "metadata": {},
   "source": [
    "The cluster 0, 2, 3, 4 and 6 are overrepresented in the customer data, especially 6, while cluster 1 is underrepresented. Let me extract and see what kinds of customers they are."
   ]
  },
  {
   "cell_type": "code",
   "execution_count": 94,
   "metadata": {},
   "outputs": [],
   "source": [
    "# What kinds of people are part of a cluster that is overrepresented in the\n",
    "# customer data compared to the general population?\n",
    "\n",
    "cluster_3 = customers_transformed[np.where(customers_clusters == 3)]\n",
    "\n",
    "cluster_3 = pd.DataFrame(data=cluster_3[:,:],\n",
    "             columns=range(0,20))"
   ]
  },
  {
   "cell_type": "code",
   "execution_count": 95,
   "metadata": {},
   "outputs": [
    {
     "data": {
      "text/html": [
       "<div>\n",
       "<style>\n",
       "    .dataframe thead tr:only-child th {\n",
       "        text-align: right;\n",
       "    }\n",
       "\n",
       "    .dataframe thead th {\n",
       "        text-align: left;\n",
       "    }\n",
       "\n",
       "    .dataframe tbody tr th {\n",
       "        vertical-align: top;\n",
       "    }\n",
       "</style>\n",
       "<table border=\"1\" class=\"dataframe\">\n",
       "  <thead>\n",
       "    <tr style=\"text-align: right;\">\n",
       "      <th></th>\n",
       "      <th>0</th>\n",
       "      <th>1</th>\n",
       "      <th>2</th>\n",
       "      <th>3</th>\n",
       "      <th>4</th>\n",
       "      <th>5</th>\n",
       "      <th>6</th>\n",
       "      <th>7</th>\n",
       "      <th>8</th>\n",
       "      <th>9</th>\n",
       "      <th>10</th>\n",
       "      <th>11</th>\n",
       "      <th>12</th>\n",
       "      <th>13</th>\n",
       "      <th>14</th>\n",
       "      <th>15</th>\n",
       "      <th>16</th>\n",
       "      <th>17</th>\n",
       "      <th>18</th>\n",
       "      <th>19</th>\n",
       "    </tr>\n",
       "  </thead>\n",
       "  <tbody>\n",
       "    <tr>\n",
       "      <th>count</th>\n",
       "      <td>16637.000000</td>\n",
       "      <td>16637.000000</td>\n",
       "      <td>16637.000000</td>\n",
       "      <td>16637.000000</td>\n",
       "      <td>16637.000000</td>\n",
       "      <td>16637.000000</td>\n",
       "      <td>16637.000000</td>\n",
       "      <td>16637.000000</td>\n",
       "      <td>16637.000000</td>\n",
       "      <td>16637.000000</td>\n",
       "      <td>16637.000000</td>\n",
       "      <td>16637.000000</td>\n",
       "      <td>16637.000000</td>\n",
       "      <td>16637.000000</td>\n",
       "      <td>16637.000000</td>\n",
       "      <td>16637.000000</td>\n",
       "      <td>16637.000000</td>\n",
       "      <td>16637.000000</td>\n",
       "      <td>16637.000000</td>\n",
       "      <td>16637.000000</td>\n",
       "    </tr>\n",
       "    <tr>\n",
       "      <th>mean</th>\n",
       "      <td>-2.113222</td>\n",
       "      <td>0.548115</td>\n",
       "      <td>-3.269028</td>\n",
       "      <td>1.886503</td>\n",
       "      <td>1.845978</td>\n",
       "      <td>-2.093740</td>\n",
       "      <td>0.671656</td>\n",
       "      <td>-1.716516</td>\n",
       "      <td>0.287651</td>\n",
       "      <td>-1.633498</td>\n",
       "      <td>-0.407616</td>\n",
       "      <td>0.072379</td>\n",
       "      <td>-0.020645</td>\n",
       "      <td>0.051432</td>\n",
       "      <td>-0.669939</td>\n",
       "      <td>0.566783</td>\n",
       "      <td>0.064134</td>\n",
       "      <td>0.241565</td>\n",
       "      <td>-0.321341</td>\n",
       "      <td>0.017253</td>\n",
       "    </tr>\n",
       "    <tr>\n",
       "      <th>std</th>\n",
       "      <td>3.558794</td>\n",
       "      <td>2.132865</td>\n",
       "      <td>0.909135</td>\n",
       "      <td>1.797720</td>\n",
       "      <td>3.006290</td>\n",
       "      <td>1.473373</td>\n",
       "      <td>2.415972</td>\n",
       "      <td>1.077341</td>\n",
       "      <td>2.022892</td>\n",
       "      <td>1.156504</td>\n",
       "      <td>2.309443</td>\n",
       "      <td>2.065860</td>\n",
       "      <td>2.356447</td>\n",
       "      <td>1.758102</td>\n",
       "      <td>1.197420</td>\n",
       "      <td>2.005510</td>\n",
       "      <td>1.699630</td>\n",
       "      <td>1.695402</td>\n",
       "      <td>1.729707</td>\n",
       "      <td>1.453258</td>\n",
       "    </tr>\n",
       "    <tr>\n",
       "      <th>min</th>\n",
       "      <td>-8.973008</td>\n",
       "      <td>-5.467860</td>\n",
       "      <td>-5.703773</td>\n",
       "      <td>-1.777246</td>\n",
       "      <td>-7.495587</td>\n",
       "      <td>-5.720164</td>\n",
       "      <td>-6.667883</td>\n",
       "      <td>-5.254976</td>\n",
       "      <td>-7.375076</td>\n",
       "      <td>-5.253957</td>\n",
       "      <td>-4.696475</td>\n",
       "      <td>-6.098811</td>\n",
       "      <td>-3.241031</td>\n",
       "      <td>-6.930294</td>\n",
       "      <td>-5.760433</td>\n",
       "      <td>-6.249651</td>\n",
       "      <td>-6.444776</td>\n",
       "      <td>-6.430755</td>\n",
       "      <td>-8.029869</td>\n",
       "      <td>-4.835512</td>\n",
       "    </tr>\n",
       "    <tr>\n",
       "      <th>25%</th>\n",
       "      <td>-5.215730</td>\n",
       "      <td>-0.851439</td>\n",
       "      <td>-3.931501</td>\n",
       "      <td>0.849953</td>\n",
       "      <td>-0.041043</td>\n",
       "      <td>-3.097091</td>\n",
       "      <td>-1.139996</td>\n",
       "      <td>-2.477810</td>\n",
       "      <td>-1.003254</td>\n",
       "      <td>-2.393811</td>\n",
       "      <td>-2.023469</td>\n",
       "      <td>-1.402218</td>\n",
       "      <td>-1.405520</td>\n",
       "      <td>-0.959496</td>\n",
       "      <td>-0.943806</td>\n",
       "      <td>-0.875324</td>\n",
       "      <td>-1.021800</td>\n",
       "      <td>-0.820102</td>\n",
       "      <td>-1.250131</td>\n",
       "      <td>-0.996625</td>\n",
       "    </tr>\n",
       "    <tr>\n",
       "      <th>50%</th>\n",
       "      <td>-2.502210</td>\n",
       "      <td>0.258388</td>\n",
       "      <td>-3.422005</td>\n",
       "      <td>2.013996</td>\n",
       "      <td>1.752178</td>\n",
       "      <td>-2.432449</td>\n",
       "      <td>0.844578</td>\n",
       "      <td>-1.722700</td>\n",
       "      <td>0.445793</td>\n",
       "      <td>-1.647812</td>\n",
       "      <td>-0.487739</td>\n",
       "      <td>0.086012</td>\n",
       "      <td>-0.932473</td>\n",
       "      <td>0.153677</td>\n",
       "      <td>-0.430241</td>\n",
       "      <td>0.507375</td>\n",
       "      <td>0.233718</td>\n",
       "      <td>0.278241</td>\n",
       "      <td>-0.309076</td>\n",
       "      <td>-0.041223</td>\n",
       "    </tr>\n",
       "    <tr>\n",
       "      <th>75%</th>\n",
       "      <td>0.292353</td>\n",
       "      <td>2.015931</td>\n",
       "      <td>-2.710851</td>\n",
       "      <td>3.295752</td>\n",
       "      <td>3.952881</td>\n",
       "      <td>-1.597765</td>\n",
       "      <td>2.392398</td>\n",
       "      <td>-0.951647</td>\n",
       "      <td>1.639934</td>\n",
       "      <td>-0.818615</td>\n",
       "      <td>0.373172</td>\n",
       "      <td>1.491180</td>\n",
       "      <td>0.003241</td>\n",
       "      <td>1.167662</td>\n",
       "      <td>-0.004541</td>\n",
       "      <td>1.796816</td>\n",
       "      <td>1.155285</td>\n",
       "      <td>1.303695</td>\n",
       "      <td>0.713639</td>\n",
       "      <td>1.036209</td>\n",
       "    </tr>\n",
       "    <tr>\n",
       "      <th>max</th>\n",
       "      <td>8.244711</td>\n",
       "      <td>6.693945</td>\n",
       "      <td>1.281577</td>\n",
       "      <td>6.152888</td>\n",
       "      <td>9.994817</td>\n",
       "      <td>2.594937</td>\n",
       "      <td>10.086682</td>\n",
       "      <td>6.143046</td>\n",
       "      <td>7.518490</td>\n",
       "      <td>5.132596</td>\n",
       "      <td>9.321781</td>\n",
       "      <td>7.600636</td>\n",
       "      <td>7.404491</td>\n",
       "      <td>8.104508</td>\n",
       "      <td>1.918760</td>\n",
       "      <td>7.728214</td>\n",
       "      <td>7.118211</td>\n",
       "      <td>6.041914</td>\n",
       "      <td>6.725808</td>\n",
       "      <td>5.003375</td>\n",
       "    </tr>\n",
       "  </tbody>\n",
       "</table>\n",
       "</div>"
      ],
      "text/plain": [
       "                 0             1             2             3             4   \\\n",
       "count  16637.000000  16637.000000  16637.000000  16637.000000  16637.000000   \n",
       "mean      -2.113222      0.548115     -3.269028      1.886503      1.845978   \n",
       "std        3.558794      2.132865      0.909135      1.797720      3.006290   \n",
       "min       -8.973008     -5.467860     -5.703773     -1.777246     -7.495587   \n",
       "25%       -5.215730     -0.851439     -3.931501      0.849953     -0.041043   \n",
       "50%       -2.502210      0.258388     -3.422005      2.013996      1.752178   \n",
       "75%        0.292353      2.015931     -2.710851      3.295752      3.952881   \n",
       "max        8.244711      6.693945      1.281577      6.152888      9.994817   \n",
       "\n",
       "                 5             6             7             8             9   \\\n",
       "count  16637.000000  16637.000000  16637.000000  16637.000000  16637.000000   \n",
       "mean      -2.093740      0.671656     -1.716516      0.287651     -1.633498   \n",
       "std        1.473373      2.415972      1.077341      2.022892      1.156504   \n",
       "min       -5.720164     -6.667883     -5.254976     -7.375076     -5.253957   \n",
       "25%       -3.097091     -1.139996     -2.477810     -1.003254     -2.393811   \n",
       "50%       -2.432449      0.844578     -1.722700      0.445793     -1.647812   \n",
       "75%       -1.597765      2.392398     -0.951647      1.639934     -0.818615   \n",
       "max        2.594937     10.086682      6.143046      7.518490      5.132596   \n",
       "\n",
       "                 10            11            12            13            14  \\\n",
       "count  16637.000000  16637.000000  16637.000000  16637.000000  16637.000000   \n",
       "mean      -0.407616      0.072379     -0.020645      0.051432     -0.669939   \n",
       "std        2.309443      2.065860      2.356447      1.758102      1.197420   \n",
       "min       -4.696475     -6.098811     -3.241031     -6.930294     -5.760433   \n",
       "25%       -2.023469     -1.402218     -1.405520     -0.959496     -0.943806   \n",
       "50%       -0.487739      0.086012     -0.932473      0.153677     -0.430241   \n",
       "75%        0.373172      1.491180      0.003241      1.167662     -0.004541   \n",
       "max        9.321781      7.600636      7.404491      8.104508      1.918760   \n",
       "\n",
       "                 15            16            17            18            19  \n",
       "count  16637.000000  16637.000000  16637.000000  16637.000000  16637.000000  \n",
       "mean       0.566783      0.064134      0.241565     -0.321341      0.017253  \n",
       "std        2.005510      1.699630      1.695402      1.729707      1.453258  \n",
       "min       -6.249651     -6.444776     -6.430755     -8.029869     -4.835512  \n",
       "25%       -0.875324     -1.021800     -0.820102     -1.250131     -0.996625  \n",
       "50%        0.507375      0.233718      0.278241     -0.309076     -0.041223  \n",
       "75%        1.796816      1.155285      1.303695      0.713639      1.036209  \n",
       "max        7.728214      7.118211      6.041914      6.725808      5.003375  "
      ]
     },
     "execution_count": 95,
     "metadata": {},
     "output_type": "execute_result"
    }
   ],
   "source": [
    "cluster_3.describe()"
   ]
  },
  {
   "cell_type": "code",
   "execution_count": 96,
   "metadata": {},
   "outputs": [
    {
     "data": {
      "text/plain": [
       "(ALTERSKATEGORIE_GROB_4.0    0.154\n",
       " FINANZ_SPARER_1             0.153\n",
       " FINANZ_VORSORGER_5          0.151\n",
       " Name: Component 2, dtype: float64, Era             -0.174\n",
       " SEMIO_TRADV_5   -0.123\n",
       " SEMIO_FAM_7     -0.123\n",
       " Name: Component 2, dtype: float64)"
      ]
     },
     "execution_count": 96,
     "metadata": {},
     "output_type": "execute_result"
    }
   ],
   "source": [
    "interpret_features(customers_scaled, pca, 2)"
   ]
  },
  {
   "cell_type": "markdown",
   "metadata": {},
   "source": [
    "The most covered features are about age, energy comsumption, and financial typology. So I think this features are about the social status of the customers. So this clusters probably includes some special customers in a specific social status, which is comparatively rarely in the whole population, compared with customers."
   ]
  },
  {
   "cell_type": "code",
   "execution_count": 97,
   "metadata": {},
   "outputs": [],
   "source": [
    "# What kinds of people are part of a cluster that is underrepresented in the\n",
    "# customer data compared to the general population?\n",
    "\n",
    "cluster_6 = customers_transformed[np.where(customers_clusters == 6)]\n",
    "\n",
    "cluster_6 = pd.DataFrame(data=cluster_6[:,:],\n",
    "             columns=range(0,20))"
   ]
  },
  {
   "cell_type": "code",
   "execution_count": 98,
   "metadata": {},
   "outputs": [
    {
     "data": {
      "text/html": [
       "<div>\n",
       "<style>\n",
       "    .dataframe thead tr:only-child th {\n",
       "        text-align: right;\n",
       "    }\n",
       "\n",
       "    .dataframe thead th {\n",
       "        text-align: left;\n",
       "    }\n",
       "\n",
       "    .dataframe tbody tr th {\n",
       "        vertical-align: top;\n",
       "    }\n",
       "</style>\n",
       "<table border=\"1\" class=\"dataframe\">\n",
       "  <thead>\n",
       "    <tr style=\"text-align: right;\">\n",
       "      <th></th>\n",
       "      <th>0</th>\n",
       "      <th>1</th>\n",
       "      <th>2</th>\n",
       "      <th>3</th>\n",
       "      <th>4</th>\n",
       "      <th>5</th>\n",
       "      <th>6</th>\n",
       "      <th>7</th>\n",
       "      <th>8</th>\n",
       "      <th>9</th>\n",
       "      <th>10</th>\n",
       "      <th>11</th>\n",
       "      <th>12</th>\n",
       "      <th>13</th>\n",
       "      <th>14</th>\n",
       "      <th>15</th>\n",
       "      <th>16</th>\n",
       "      <th>17</th>\n",
       "      <th>18</th>\n",
       "      <th>19</th>\n",
       "    </tr>\n",
       "  </thead>\n",
       "  <tbody>\n",
       "    <tr>\n",
       "      <th>count</th>\n",
       "      <td>4394.000000</td>\n",
       "      <td>4394.000000</td>\n",
       "      <td>4394.000000</td>\n",
       "      <td>4394.000000</td>\n",
       "      <td>4394.000000</td>\n",
       "      <td>4394.000000</td>\n",
       "      <td>4394.000000</td>\n",
       "      <td>4394.000000</td>\n",
       "      <td>4394.000000</td>\n",
       "      <td>4394.000000</td>\n",
       "      <td>4394.000000</td>\n",
       "      <td>4394.000000</td>\n",
       "      <td>4394.000000</td>\n",
       "      <td>4394.000000</td>\n",
       "      <td>4394.000000</td>\n",
       "      <td>4394.000000</td>\n",
       "      <td>4394.000000</td>\n",
       "      <td>4394.000000</td>\n",
       "      <td>4394.000000</td>\n",
       "      <td>4394.000000</td>\n",
       "    </tr>\n",
       "    <tr>\n",
       "      <th>mean</th>\n",
       "      <td>-0.582220</td>\n",
       "      <td>-4.479671</td>\n",
       "      <td>3.715608</td>\n",
       "      <td>-2.772015</td>\n",
       "      <td>1.582591</td>\n",
       "      <td>-3.907548</td>\n",
       "      <td>0.892514</td>\n",
       "      <td>-1.002488</td>\n",
       "      <td>-0.090198</td>\n",
       "      <td>1.238170</td>\n",
       "      <td>0.754632</td>\n",
       "      <td>-0.043109</td>\n",
       "      <td>0.252682</td>\n",
       "      <td>-0.358600</td>\n",
       "      <td>-0.491077</td>\n",
       "      <td>0.505990</td>\n",
       "      <td>0.316449</td>\n",
       "      <td>-0.141868</td>\n",
       "      <td>-0.114654</td>\n",
       "      <td>0.053524</td>\n",
       "    </tr>\n",
       "    <tr>\n",
       "      <th>std</th>\n",
       "      <td>4.027098</td>\n",
       "      <td>2.363873</td>\n",
       "      <td>0.749645</td>\n",
       "      <td>1.564416</td>\n",
       "      <td>3.023294</td>\n",
       "      <td>1.503766</td>\n",
       "      <td>2.372982</td>\n",
       "      <td>1.998428</td>\n",
       "      <td>2.042376</td>\n",
       "      <td>1.436163</td>\n",
       "      <td>3.203373</td>\n",
       "      <td>2.079935</td>\n",
       "      <td>2.291843</td>\n",
       "      <td>1.924778</td>\n",
       "      <td>1.633456</td>\n",
       "      <td>1.946322</td>\n",
       "      <td>1.897498</td>\n",
       "      <td>1.662137</td>\n",
       "      <td>2.026920</td>\n",
       "      <td>1.722313</td>\n",
       "    </tr>\n",
       "    <tr>\n",
       "      <th>min</th>\n",
       "      <td>-6.712718</td>\n",
       "      <td>-9.303203</td>\n",
       "      <td>0.506969</td>\n",
       "      <td>-7.163415</td>\n",
       "      <td>-6.897851</td>\n",
       "      <td>-7.524613</td>\n",
       "      <td>-5.956138</td>\n",
       "      <td>-6.697136</td>\n",
       "      <td>-6.424187</td>\n",
       "      <td>-3.317582</td>\n",
       "      <td>-4.555724</td>\n",
       "      <td>-6.087488</td>\n",
       "      <td>-2.831616</td>\n",
       "      <td>-7.102464</td>\n",
       "      <td>-5.071188</td>\n",
       "      <td>-5.363925</td>\n",
       "      <td>-5.954432</td>\n",
       "      <td>-5.675332</td>\n",
       "      <td>-7.907728</td>\n",
       "      <td>-5.866942</td>\n",
       "    </tr>\n",
       "    <tr>\n",
       "      <th>25%</th>\n",
       "      <td>-3.747093</td>\n",
       "      <td>-6.365774</td>\n",
       "      <td>3.254617</td>\n",
       "      <td>-3.933199</td>\n",
       "      <td>-0.588841</td>\n",
       "      <td>-5.019990</td>\n",
       "      <td>-0.704640</td>\n",
       "      <td>-2.559362</td>\n",
       "      <td>-1.417842</td>\n",
       "      <td>0.227587</td>\n",
       "      <td>-1.515991</td>\n",
       "      <td>-1.506845</td>\n",
       "      <td>-1.155028</td>\n",
       "      <td>-1.567014</td>\n",
       "      <td>-0.815038</td>\n",
       "      <td>-0.930921</td>\n",
       "      <td>-0.930226</td>\n",
       "      <td>-1.284197</td>\n",
       "      <td>-1.395854</td>\n",
       "      <td>-1.138259</td>\n",
       "    </tr>\n",
       "    <tr>\n",
       "      <th>50%</th>\n",
       "      <td>-1.893015</td>\n",
       "      <td>-4.669814</td>\n",
       "      <td>3.741337</td>\n",
       "      <td>-2.675458</td>\n",
       "      <td>1.337573</td>\n",
       "      <td>-4.002763</td>\n",
       "      <td>1.193161</td>\n",
       "      <td>-0.747796</td>\n",
       "      <td>-0.146380</td>\n",
       "      <td>1.268737</td>\n",
       "      <td>-0.040107</td>\n",
       "      <td>-0.190208</td>\n",
       "      <td>-0.504927</td>\n",
       "      <td>-0.250047</td>\n",
       "      <td>0.075914</td>\n",
       "      <td>0.453902</td>\n",
       "      <td>0.406675</td>\n",
       "      <td>-0.166569</td>\n",
       "      <td>-0.093599</td>\n",
       "      <td>0.072855</td>\n",
       "    </tr>\n",
       "    <tr>\n",
       "      <th>75%</th>\n",
       "      <td>2.013178</td>\n",
       "      <td>-2.854008</td>\n",
       "      <td>4.213143</td>\n",
       "      <td>-1.591718</td>\n",
       "      <td>3.963227</td>\n",
       "      <td>-2.908548</td>\n",
       "      <td>2.611301</td>\n",
       "      <td>0.582990</td>\n",
       "      <td>1.240219</td>\n",
       "      <td>2.300016</td>\n",
       "      <td>1.347912</td>\n",
       "      <td>1.217714</td>\n",
       "      <td>0.422553</td>\n",
       "      <td>0.915193</td>\n",
       "      <td>0.593063</td>\n",
       "      <td>1.871910</td>\n",
       "      <td>1.612314</td>\n",
       "      <td>0.949604</td>\n",
       "      <td>1.235051</td>\n",
       "      <td>1.251859</td>\n",
       "    </tr>\n",
       "    <tr>\n",
       "      <th>max</th>\n",
       "      <td>11.116053</td>\n",
       "      <td>3.659467</td>\n",
       "      <td>6.179989</td>\n",
       "      <td>0.941925</td>\n",
       "      <td>9.345198</td>\n",
       "      <td>1.879566</td>\n",
       "      <td>8.475903</td>\n",
       "      <td>3.686479</td>\n",
       "      <td>7.824685</td>\n",
       "      <td>4.972622</td>\n",
       "      <td>9.508018</td>\n",
       "      <td>7.607274</td>\n",
       "      <td>7.908131</td>\n",
       "      <td>6.516795</td>\n",
       "      <td>2.107107</td>\n",
       "      <td>8.762835</td>\n",
       "      <td>6.625894</td>\n",
       "      <td>5.904682</td>\n",
       "      <td>6.081146</td>\n",
       "      <td>6.421478</td>\n",
       "    </tr>\n",
       "  </tbody>\n",
       "</table>\n",
       "</div>"
      ],
      "text/plain": [
       "                0            1            2            3            4   \\\n",
       "count  4394.000000  4394.000000  4394.000000  4394.000000  4394.000000   \n",
       "mean     -0.582220    -4.479671     3.715608    -2.772015     1.582591   \n",
       "std       4.027098     2.363873     0.749645     1.564416     3.023294   \n",
       "min      -6.712718    -9.303203     0.506969    -7.163415    -6.897851   \n",
       "25%      -3.747093    -6.365774     3.254617    -3.933199    -0.588841   \n",
       "50%      -1.893015    -4.669814     3.741337    -2.675458     1.337573   \n",
       "75%       2.013178    -2.854008     4.213143    -1.591718     3.963227   \n",
       "max      11.116053     3.659467     6.179989     0.941925     9.345198   \n",
       "\n",
       "                5            6            7            8            9   \\\n",
       "count  4394.000000  4394.000000  4394.000000  4394.000000  4394.000000   \n",
       "mean     -3.907548     0.892514    -1.002488    -0.090198     1.238170   \n",
       "std       1.503766     2.372982     1.998428     2.042376     1.436163   \n",
       "min      -7.524613    -5.956138    -6.697136    -6.424187    -3.317582   \n",
       "25%      -5.019990    -0.704640    -2.559362    -1.417842     0.227587   \n",
       "50%      -4.002763     1.193161    -0.747796    -0.146380     1.268737   \n",
       "75%      -2.908548     2.611301     0.582990     1.240219     2.300016   \n",
       "max       1.879566     8.475903     3.686479     7.824685     4.972622   \n",
       "\n",
       "                10           11           12           13           14  \\\n",
       "count  4394.000000  4394.000000  4394.000000  4394.000000  4394.000000   \n",
       "mean      0.754632    -0.043109     0.252682    -0.358600    -0.491077   \n",
       "std       3.203373     2.079935     2.291843     1.924778     1.633456   \n",
       "min      -4.555724    -6.087488    -2.831616    -7.102464    -5.071188   \n",
       "25%      -1.515991    -1.506845    -1.155028    -1.567014    -0.815038   \n",
       "50%      -0.040107    -0.190208    -0.504927    -0.250047     0.075914   \n",
       "75%       1.347912     1.217714     0.422553     0.915193     0.593063   \n",
       "max       9.508018     7.607274     7.908131     6.516795     2.107107   \n",
       "\n",
       "                15           16           17           18           19  \n",
       "count  4394.000000  4394.000000  4394.000000  4394.000000  4394.000000  \n",
       "mean      0.505990     0.316449    -0.141868    -0.114654     0.053524  \n",
       "std       1.946322     1.897498     1.662137     2.026920     1.722313  \n",
       "min      -5.363925    -5.954432    -5.675332    -7.907728    -5.866942  \n",
       "25%      -0.930921    -0.930226    -1.284197    -1.395854    -1.138259  \n",
       "50%       0.453902     0.406675    -0.166569    -0.093599     0.072855  \n",
       "75%       1.871910     1.612314     0.949604     1.235051     1.251859  \n",
       "max       8.762835     6.625894     5.904682     6.081146     6.421478  "
      ]
     },
     "execution_count": 98,
     "metadata": {},
     "output_type": "execute_result"
    }
   ],
   "source": [
    "cluster_6.describe()"
   ]
  },
  {
   "cell_type": "code",
   "execution_count": 99,
   "metadata": {},
   "outputs": [
    {
     "data": {
      "text/plain": [
       "(SEMIO_TRADV_6    0.214\n",
       " SEMIO_MAT_4      0.184\n",
       " SEMIO_FAM_4      0.181\n",
       " Name: Component 6, dtype: float64, SEMIO_RAT_4    -0.212\n",
       " SEMIO_SOZ_7    -0.182\n",
       " SEMIO_KULT_7   -0.182\n",
       " Name: Component 6, dtype: float64)"
      ]
     },
     "execution_count": 99,
     "metadata": {},
     "output_type": "execute_result"
    }
   ],
   "source": [
    "interpret_features(customers_scaled, pca, 6)"
   ]
  },
  {
   "cell_type": "markdown",
   "metadata": {},
   "source": [
    "All three most covered features are about personality. This indicates that this clusters include a specific type of people, which is underrepresented in the customer data."
   ]
  },
  {
   "cell_type": "markdown",
   "metadata": {},
   "source": [
    "### Discussion 3.3: Compare Customer Data to Demographics Data\n",
    "\n",
    "Comparing two clustering results can let me understand the difference of the distribution of different types of people between customers and population in that area, which provides more clear target about what kind of audience we should target at in the future promotion."
   ]
  },
  {
   "cell_type": "markdown",
   "metadata": {},
   "source": [
    "> Congratulations on making it this far in the project! Before you finish, make sure to check through the entire notebook from top to bottom to make sure that your analysis follows a logical flow and all of your findings are documented in **Discussion** cells. Once you've checked over all of your work, you should export the notebook as an HTML document to submit for evaluation. You can do this from the menu, navigating to **File -> Download as -> HTML (.html)**. You will submit both that document and this notebook for your project submission."
   ]
  }
 ],
 "metadata": {
  "kernelspec": {
   "display_name": "Python 3",
   "language": "python",
   "name": "python3"
  },
  "language_info": {
   "codemirror_mode": {
    "name": "ipython",
    "version": 3
   },
   "file_extension": ".py",
   "mimetype": "text/x-python",
   "name": "python",
   "nbconvert_exporter": "python",
   "pygments_lexer": "ipython3",
   "version": "3.6.3"
  }
 },
 "nbformat": 4,
 "nbformat_minor": 2
}
